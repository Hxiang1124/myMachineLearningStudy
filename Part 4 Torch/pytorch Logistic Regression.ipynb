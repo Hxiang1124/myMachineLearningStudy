{
 "cells": [
  {
   "cell_type": "code",
   "execution_count": 1,
   "id": "8cf0871a-8007-4748-9e55-86a250dead8c",
   "metadata": {},
   "outputs": [],
   "source": [
    "import pandas as pd\n",
    "\n",
    "url = \"Credit_Risk_Prediction.csv\"\n",
    "data = pd.read_csv(url)"
   ]
  },
  {
   "cell_type": "code",
   "execution_count": 2,
   "id": "526b1148-6e3f-475b-aaec-5e5a6fa92f7e",
   "metadata": {},
   "outputs": [],
   "source": [
    "#Convert the unit of Loan and MonthlyPaid to (k)\n",
    "data[\"Loan\"] = data[\"Loan\"] / 1000\n",
    "data[\"MonthlyPaid\"] = data[\"MonthlyPaid\"] / 1000"
   ]
  },
  {
   "cell_type": "code",
   "execution_count": 3,
   "id": "08f0fca0-54dc-44f4-9067-f72354aac656",
   "metadata": {},
   "outputs": [],
   "source": [
    "data[\"Gender\"] = data[\"Gender\"].map({\"m\":1 , \"f\":0})\n",
    "data[\"Credit Risk Prediction\"] = data[\"Credit Risk Prediction\"].map({\"Yes\":1 , \"No\":0})"
   ]
  },
  {
   "cell_type": "code",
   "execution_count": 4,
   "id": "2aa6772e-b16f-45d4-8f3e-5b1ab94b82ad",
   "metadata": {},
   "outputs": [
    {
     "data": {
      "text/html": [
       "<div>\n",
       "<style scoped>\n",
       "    .dataframe tbody tr th:only-of-type {\n",
       "        vertical-align: middle;\n",
       "    }\n",
       "\n",
       "    .dataframe tbody tr th {\n",
       "        vertical-align: top;\n",
       "    }\n",
       "\n",
       "    .dataframe thead th {\n",
       "        text-align: right;\n",
       "    }\n",
       "</style>\n",
       "<table border=\"1\" class=\"dataframe\">\n",
       "  <thead>\n",
       "    <tr style=\"text-align: right;\">\n",
       "      <th></th>\n",
       "      <th>Age</th>\n",
       "      <th>Loan</th>\n",
       "      <th>MonthlyPaid</th>\n",
       "      <th>Gender</th>\n",
       "      <th>Credit Risk Prediction</th>\n",
       "    </tr>\n",
       "  </thead>\n",
       "  <tbody>\n",
       "    <tr>\n",
       "      <th>0</th>\n",
       "      <td>25</td>\n",
       "      <td>586.0</td>\n",
       "      <td>2.25</td>\n",
       "      <td>1</td>\n",
       "      <td>1</td>\n",
       "    </tr>\n",
       "    <tr>\n",
       "      <th>1</th>\n",
       "      <td>63</td>\n",
       "      <td>869.0</td>\n",
       "      <td>4.95</td>\n",
       "      <td>0</td>\n",
       "      <td>0</td>\n",
       "    </tr>\n",
       "    <tr>\n",
       "      <th>2</th>\n",
       "      <td>49</td>\n",
       "      <td>665.0</td>\n",
       "      <td>4.50</td>\n",
       "      <td>1</td>\n",
       "      <td>1</td>\n",
       "    </tr>\n",
       "    <tr>\n",
       "      <th>3</th>\n",
       "      <td>66</td>\n",
       "      <td>245.0</td>\n",
       "      <td>4.70</td>\n",
       "      <td>1</td>\n",
       "      <td>0</td>\n",
       "    </tr>\n",
       "    <tr>\n",
       "      <th>4</th>\n",
       "      <td>21</td>\n",
       "      <td>282.0</td>\n",
       "      <td>1.00</td>\n",
       "      <td>0</td>\n",
       "      <td>1</td>\n",
       "    </tr>\n",
       "    <tr>\n",
       "      <th>...</th>\n",
       "      <td>...</td>\n",
       "      <td>...</td>\n",
       "      <td>...</td>\n",
       "      <td>...</td>\n",
       "      <td>...</td>\n",
       "    </tr>\n",
       "    <tr>\n",
       "      <th>294</th>\n",
       "      <td>62</td>\n",
       "      <td>662.0</td>\n",
       "      <td>0.60</td>\n",
       "      <td>0</td>\n",
       "      <td>0</td>\n",
       "    </tr>\n",
       "    <tr>\n",
       "      <th>295</th>\n",
       "      <td>40</td>\n",
       "      <td>195.0</td>\n",
       "      <td>3.85</td>\n",
       "      <td>0</td>\n",
       "      <td>1</td>\n",
       "    </tr>\n",
       "    <tr>\n",
       "      <th>296</th>\n",
       "      <td>22</td>\n",
       "      <td>215.0</td>\n",
       "      <td>1.00</td>\n",
       "      <td>0</td>\n",
       "      <td>1</td>\n",
       "    </tr>\n",
       "    <tr>\n",
       "      <th>297</th>\n",
       "      <td>59</td>\n",
       "      <td>349.0</td>\n",
       "      <td>2.15</td>\n",
       "      <td>1</td>\n",
       "      <td>0</td>\n",
       "    </tr>\n",
       "    <tr>\n",
       "      <th>298</th>\n",
       "      <td>34</td>\n",
       "      <td>533.0</td>\n",
       "      <td>3.15</td>\n",
       "      <td>0</td>\n",
       "      <td>1</td>\n",
       "    </tr>\n",
       "  </tbody>\n",
       "</table>\n",
       "<p>299 rows × 5 columns</p>\n",
       "</div>"
      ],
      "text/plain": [
       "     Age   Loan  MonthlyPaid  Gender  Credit Risk Prediction\n",
       "0     25  586.0         2.25       1                       1\n",
       "1     63  869.0         4.95       0                       0\n",
       "2     49  665.0         4.50       1                       1\n",
       "3     66  245.0         4.70       1                       0\n",
       "4     21  282.0         1.00       0                       1\n",
       "..   ...    ...          ...     ...                     ...\n",
       "294   62  662.0         0.60       0                       0\n",
       "295   40  195.0         3.85       0                       1\n",
       "296   22  215.0         1.00       0                       1\n",
       "297   59  349.0         2.15       1                       0\n",
       "298   34  533.0         3.15       0                       1\n",
       "\n",
       "[299 rows x 5 columns]"
      ]
     },
     "execution_count": 4,
     "metadata": {},
     "output_type": "execute_result"
    }
   ],
   "source": [
    "data"
   ]
  },
  {
   "cell_type": "code",
   "execution_count": 5,
   "id": "eb72dd09-588f-4224-8496-3a9cdf6aaca3",
   "metadata": {},
   "outputs": [],
   "source": [
    "from sklearn.model_selection import train_test_split\n",
    "\n",
    "x = data[[\"Age\",\"Loan\",\"MonthlyPaid\",\"Gender\"]]\n",
    "y = data[\"Credit Risk Prediction\"]\n",
    "\n",
    "x_train,x_test,y_train,y_test = train_test_split(x,y,test_size=0.2,random_state=87)\n",
    "x_train = x_train.to_numpy()\n",
    "x_test = x_test.to_numpy()\n",
    "y_train = y_train.to_numpy()\n",
    "y_test = y_test.to_numpy()"
   ]
  },
  {
   "cell_type": "markdown",
   "id": "f0b56f5c-83de-4fdc-b982-7635b10c71d9",
   "metadata": {},
   "source": [
    "## Standardization"
   ]
  },
  {
   "cell_type": "code",
   "execution_count": 6,
   "id": "fedecced-57af-4262-bfba-45946bfb79fd",
   "metadata": {},
   "outputs": [],
   "source": [
    "from sklearn.preprocessing import StandardScaler\n",
    "\n",
    "scaler = StandardScaler()\n",
    "scaler.fit(x_train)\n",
    "x_train = scaler.transform(x_train)\n",
    "x_test = scaler.transform(x_test)"
   ]
  },
  {
   "cell_type": "code",
   "execution_count": 7,
   "id": "f6515fa6-5ac5-4d44-9e5c-a0562403137c",
   "metadata": {},
   "outputs": [],
   "source": [
    "import torch"
   ]
  },
  {
   "cell_type": "code",
   "execution_count": 8,
   "id": "48601369-83c2-40ea-b5a2-8efb65b5fd2e",
   "metadata": {},
   "outputs": [
    {
     "data": {
      "text/plain": [
       "'cuda'"
      ]
     },
     "execution_count": 8,
     "metadata": {},
     "output_type": "execute_result"
    }
   ],
   "source": [
    "device = \"cuda\" if torch.cuda.is_available() else \"cpu\"\n",
    "device"
   ]
  },
  {
   "cell_type": "code",
   "execution_count": 9,
   "id": "b138aa89-68ec-4daf-a225-e54ba5018bdc",
   "metadata": {},
   "outputs": [],
   "source": [
    "from torch import nn\n",
    "\n",
    "class LogisticRegressionModel(nn.Module):\n",
    "    def __init__(self):\n",
    "        super().__init__()\n",
    "        self.linear_layer = nn.Linear(in_features=4,out_features=1,dtype=torch.float64)\n",
    "        self.sigmoid = nn.Sigmoid() # https://docs.pytorch.org/docs/stable/generated/torch.nn.Sigmoid.html#torch.nn.Sigmoid\n",
    "\n",
    "    def forward(self,x):\n",
    "        return self.sigmoid(self.linear_layer(x))"
   ]
  },
  {
   "cell_type": "code",
   "execution_count": 10,
   "id": "bf4e4c1a-1cfa-4403-87c8-d841e9f6b804",
   "metadata": {},
   "outputs": [
    {
     "data": {
      "text/plain": [
       "(LogisticRegressionModel(\n",
       "   (linear_layer): Linear(in_features=4, out_features=1, bias=True)\n",
       "   (sigmoid): Sigmoid()\n",
       " ),\n",
       " OrderedDict([('linear_layer.weight',\n",
       "               tensor([[-0.4710,  0.1380, -0.1459, -0.1397]], device='cuda:0',\n",
       "                      dtype=torch.float64)),\n",
       "              ('linear_layer.bias',\n",
       "               tensor([-0.4544], device='cuda:0', dtype=torch.float64))]))"
      ]
     },
     "execution_count": 10,
     "metadata": {},
     "output_type": "execute_result"
    }
   ],
   "source": [
    "torch.manual_seed(87)\n",
    "model = LogisticRegressionModel()\n",
    "model = model.to(device)\n",
    "model, model.state_dict()"
   ]
  },
  {
   "cell_type": "code",
   "execution_count": 11,
   "id": "311fbb58-7a4c-4311-be6f-0065f33f40ae",
   "metadata": {},
   "outputs": [],
   "source": [
    "x_train = torch.from_numpy(x_train)\n",
    "x_test = torch.from_numpy(x_test)\n",
    "y_train = torch.from_numpy(y_train)\n",
    "y_test = torch.from_numpy(y_test)"
   ]
  },
  {
   "cell_type": "code",
   "execution_count": 12,
   "id": "e3d01812-aa44-49fa-a1b0-0098e55acefe",
   "metadata": {},
   "outputs": [],
   "source": [
    "x_train = x_train.to(device)\n",
    "x_test = x_test.to(device)\n",
    "y_train = y_train.to(device)\n",
    "y_test = y_test.to(device)"
   ]
  },
  {
   "cell_type": "code",
   "execution_count": 13,
   "id": "b112b3ac-ec50-4299-8d01-cf4cdd0c900a",
   "metadata": {},
   "outputs": [],
   "source": [
    "y_train = y_train.reshape(-1,1)\n",
    "y_test = y_test.reshape(-1,1)"
   ]
  },
  {
   "cell_type": "code",
   "execution_count": 14,
   "id": "1a3cf735-4886-4e10-9555-54be6d6fb09d",
   "metadata": {},
   "outputs": [],
   "source": [
    "y_train = y_train.type(torch.double)   # https://docs.pytorch.org/docs/stable/tensor_attributes.html#torch.dtype\n",
    "y_test = y_test.type(torch.double)"
   ]
  },
  {
   "cell_type": "code",
   "execution_count": 15,
   "id": "e11b7a73-6867-4edc-939c-622e7f548baa",
   "metadata": {},
   "outputs": [
    {
     "name": "stdout",
     "output_type": "stream",
     "text": [
      "OrderedDict([('linear_layer.weight', tensor([[-0.4710,  0.1380, -0.1459, -0.1397]], device='cuda:0',\n",
      "       dtype=torch.float64)), ('linear_layer.bias', tensor([-0.4544], device='cuda:0', dtype=torch.float64))])\n",
      "tensor(0.6555, device='cuda:0', dtype=torch.float64,\n",
      "       grad_fn=<BinaryCrossEntropyBackward0>)\n",
      "OrderedDict([('linear_layer.weight', tensor([[-0.6844, -0.0477,  0.0376, -0.0613]], device='cuda:0',\n",
      "       dtype=torch.float64)), ('linear_layer.bias', tensor([-0.3352], device='cuda:0', dtype=torch.float64))])\n",
      "tensor(0.5364, device='cuda:0', dtype=torch.float64,\n",
      "       grad_fn=<BinaryCrossEntropyBackward0>)\n"
     ]
    }
   ],
   "source": [
    "cost_fn = nn.BCELoss() # https://docs.pytorch.org/docs/stable/generated/torch.nn.BCELoss.html#torch.nn.BCELoss\n",
    "y_pred = model(x_train)\n",
    "cost = cost_fn(y_pred,y_train)\n",
    "print(model.state_dict()) #before\n",
    "print(cost) #before\n",
    "\n",
    "optimizer = torch.optim.SGD(params=model.parameters(),lr=1)\n",
    "optimizer.zero_grad()\n",
    "cost.backward()\n",
    "optimizer.step()\n",
    "\n",
    "y_pred = model(x_train)\n",
    "cost = cost_fn(y_pred,y_train)\n",
    "print(model.state_dict()) #after\n",
    "print(cost) #after"
   ]
  },
  {
   "cell_type": "code",
   "execution_count": 16,
   "id": "ba8107ac-26a0-4d03-8115-c9865dde1775",
   "metadata": {},
   "outputs": [
    {
     "name": "stdout",
     "output_type": "stream",
     "text": [
      "    0 - train_cost :  5.3640e-01 : test_cost :  4.4179e-01 : train_acc : 74.06% : test_acc : 86.67%\n",
      "  100 - train_cost :  1.9309e-01 : test_cost :  1.2182e-01 : train_acc : 92.89% : test_acc : 95.00%\n",
      "  200 - train_cost :  1.8765e-01 : test_cost :  1.1462e-01 : train_acc : 92.89% : test_acc : 95.00%\n",
      "  300 - train_cost :  1.8661e-01 : test_cost :  1.1274e-01 : train_acc : 92.89% : test_acc : 95.00%\n",
      "  400 - train_cost :  1.8634e-01 : test_cost :  1.1202e-01 : train_acc : 92.89% : test_acc : 95.00%\n",
      "  500 - train_cost :  1.8627e-01 : test_cost :  1.1169e-01 : train_acc : 92.89% : test_acc : 95.00%\n",
      "  600 - train_cost :  1.8624e-01 : test_cost :  1.1152e-01 : train_acc : 92.89% : test_acc : 95.00%\n",
      "  700 - train_cost :  1.8623e-01 : test_cost :  1.1143e-01 : train_acc : 92.89% : test_acc : 95.00%\n",
      "  800 - train_cost :  1.8623e-01 : test_cost :  1.1138e-01 : train_acc : 92.89% : test_acc : 95.00%\n",
      "  900 - train_cost :  1.8623e-01 : test_cost :  1.1136e-01 : train_acc : 92.89% : test_acc : 95.00%\n"
     ]
    }
   ],
   "source": [
    "#Loop\n",
    "epochs = 1000\n",
    "\n",
    "train_cost_hist = []\n",
    "test_cost_hist = []\n",
    "train_acc_hist = []\n",
    "test_acc_hist = []\n",
    "\n",
    "for epoch in range(epochs):\n",
    "    model.train() # to indicate now is in train phase\n",
    "    #model.eval() # to indicate in test phase\n",
    "    \n",
    "    y_pred = model(x_train)\n",
    "    train_cost = cost_fn(y_pred, y_train)\n",
    "    train_cost_hist.append(train_cost.cpu().detach().numpy()) # .detach().numpy() is convert the cost to numpy without track the gradient descent\n",
    "    \n",
    "    train_acc = (torch.round(y_pred)==y_train).sum() / len(y_train) * 100\n",
    "    train_acc_hist.append(train_acc.cpu().detach().numpy())\n",
    "    \n",
    "    optimizer.zero_grad()\n",
    "    train_cost.backward()\n",
    "    optimizer.step()\n",
    "\n",
    "    model.eval() #test phase\n",
    "    with torch.inference_mode():   #no need to run gradient descent because it is in test phase\n",
    "        test_pred = model(x_test)\n",
    "        test_cost = cost_fn(test_pred,y_test)\n",
    "        test_cost_hist.append(test_cost.cpu())\n",
    "        \n",
    "        test_acc = (torch.round(test_pred)==y_test).sum() / len(y_test) * 100\n",
    "        test_acc_hist.append(test_acc.cpu())\n",
    "\n",
    "    if epoch%100==0:\n",
    "        print(f\"{epoch:5} - train_cost : {train_cost: .4e} : test_cost : {test_cost : .4e} : train_acc : {train_acc:.2f}% : test_acc : {test_acc:.2f}%\")"
   ]
  },
  {
   "cell_type": "code",
   "execution_count": 17,
   "id": "b4c6c677-47a0-40d5-86f7-2eacb0dd57ab",
   "metadata": {},
   "outputs": [
    {
     "data": {
      "image/png": "[encoded data removed]",
      "text/plain": [
       "<Figure size 640x480 with 1 Axes>"
      ]
     },
     "metadata": {},
     "output_type": "display_data"
    }
   ],
   "source": [
    "import matplotlib.pyplot as plt\n",
    "\n",
    "plt.plot(range(0,1000), train_cost_hist, label = \"train cost\")\n",
    "plt.plot(range(0,1000), test_cost_hist, label = \"test cost\")\n",
    "plt.title(\"train & test cost\")\n",
    "plt.xlabel(\"epochs\")\n",
    "plt.ylabel(\"cost\")\n",
    "plt.legend()\n",
    "plt.show()"
   ]
  },
  {
   "cell_type": "code",
   "execution_count": 36,
   "id": "204511ae-7d12-4335-9ce8-d3c97214e6ad",
   "metadata": {},
   "outputs": [
    {
     "name": "stdout",
     "output_type": "stream",
     "text": [
      "acc: 95.00%\n"
     ]
    }
   ],
   "source": [
    "model.eval()\n",
    "with torch.inference_mode():\n",
    "    y_pred = model(x_test)\n",
    "result = (torch.round(y_pred)==y_test).sum() / len(y_test) * 100\n",
    "print(f\"acc: {result:.2f}%\")"
   ]
  },
  {
   "cell_type": "markdown",
   "id": "5f1ab0ad-b48d-4460-992b-afad25c26130",
   "metadata": {},
   "source": [
    "## Check data here"
   ]
  },
  {
   "cell_type": "code",
   "execution_count": 32,
   "id": "1541fc4e-36c0-4349-98f0-fc388112ff05",
   "metadata": {},
   "outputs": [
    {
     "name": "stdout",
     "output_type": "stream",
     "text": [
      "Sorry, your loan are rejected\n"
     ]
    }
   ],
   "source": [
    "age = 65\n",
    "loan = 300000 / 1000 #unit(k)\n",
    "monthlypaid = 3500 / 1000 #unit(k)\n",
    "gender = 0  #female\n",
    "\n",
    "# x_realData = np.array([[age,loan,monthlypaid,gender]])\n",
    "# x_realData = scaler.transform(x_realData)\n",
    "# y_realData = (x_realData * w_final).sum(axis = 1) + b_final\n",
    "# y_realData = sigmoid(y_realData)\n",
    "\n",
    "model.eval()\n",
    "with torch.inference_mode():\n",
    "    x_realData = torch.tensor(scaler.transform([[age, loan, monthlypaid, gender]]),dtype=torch.float64)\n",
    "    x_realData = x_realData.to(device)\n",
    "    y_realData = round(model(x_realData).item(), 2)\n",
    "\n",
    "if y_realData > 0.5:\n",
    "    print(\"Congratulations, you may get the loan\")\n",
    "else:\n",
    "    print(\"Sorry, your loan are rejected\")"
   ]
  },
  {
   "cell_type": "code",
   "execution_count": null,
   "id": "98ef9bf9-3e7d-4a05-8bfc-908a046454e7",
   "metadata": {},
   "outputs": [],
   "source": []
  }
 ],
 "metadata": {
  "kernelspec": {
   "display_name": "Python 3 (ipykernel)",
   "language": "python",
   "name": "python3"
  },
  "language_info": {
   "codemirror_mode": {
    "name": "ipython",
    "version": 3
   },
   "file_extension": ".py",
   "mimetype": "text/x-python",
   "name": "python",
   "nbconvert_exporter": "python",
   "pygments_lexer": "ipython3",
   "version": "3.9.23"
  }
 },
 "nbformat": 4,
 "nbformat_minor": 5
}
