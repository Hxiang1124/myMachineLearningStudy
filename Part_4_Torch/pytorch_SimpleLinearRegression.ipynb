{
 "cells": [
  {
   "cell_type": "code",
   "execution_count": 1,
   "id": "4107142a-fdde-403c-a4aa-5579ae3c05f4",
   "metadata": {},
   "outputs": [],
   "source": [
    "import pandas as pd\n",
    "\n",
    "url = \"SquareFeet_Data.csv\"\n",
    "data = pd.read_csv(url)"
   ]
  },
  {
   "cell_type": "code",
   "execution_count": 2,
   "id": "b929aa0b-ee32-4e73-9268-532cf20d4e82",
   "metadata": {},
   "outputs": [],
   "source": [
    "#convert sqft to m^2\n",
    "\n",
    "data[\"SquareFeet\"] = data[\"SquareFeet\"] * 0.092903\n",
    "data['price'] = data['price'] / 1000"
   ]
  },
  {
   "cell_type": "code",
   "execution_count": 3,
   "id": "06f0cd4b-8112-4cd3-834b-3e91e28be32d",
   "metadata": {},
   "outputs": [],
   "source": [
    "x = data[\"SquareFeet\"]\n",
    "y = data[\"price\"]"
   ]
  },
  {
   "cell_type": "code",
   "execution_count": 4,
   "id": "042989b6-4f69-41e9-b85d-3fd1d025ea62",
   "metadata": {},
   "outputs": [],
   "source": [
    "from sklearn.model_selection import train_test_split\n",
    "import torch\n",
    "\n",
    "x_train, x_test, y_train, y_test = train_test_split(x,y,test_size=0.2,random_state=87)\n",
    "x_train = x_train.to_numpy()\n",
    "x_test = x_test.to_numpy()\n",
    "y_train = y_train.to_numpy()\n",
    "y_test = y_test.to_numpy()\n",
    "\n",
    "x_train = torch.from_numpy(x_train)\n",
    "x_test = torch.from_numpy(x_test)\n",
    "y_train = torch.from_numpy(y_train)\n",
    "y_test = torch.from_numpy(y_test)"
   ]
  },
  {
   "cell_type": "code",
   "execution_count": 5,
   "id": "3f45ecba-c80e-400d-9c1d-4db69f07ba5d",
   "metadata": {},
   "outputs": [],
   "source": [
    "from torch import nn"
   ]
  },
  {
   "cell_type": "code",
   "execution_count": 6,
   "id": "388b1da5-be4e-4646-a0db-0ea28871be57",
   "metadata": {},
   "outputs": [],
   "source": [
    "class LinearRegressionModel(nn.Module):\n",
    "    def __init__(self):\n",
    "        super().__init__()\n",
    "        self.linear_layer = nn.Linear(in_features=1,out_features=1,dtype=torch.float64)\n",
    "\n",
    "    def forward(self,x):\n",
    "        return self.linear_layer(x)"
   ]
  },
  {
   "cell_type": "code",
   "execution_count": 7,
   "id": "0c1664bd-571c-4366-a83e-c104a4993731",
   "metadata": {},
   "outputs": [
    {
     "data": {
      "text/plain": [
       "OrderedDict([('linear_layer.weight', tensor([[-0.9419]], dtype=torch.float64)),\n",
       "             ('linear_layer.bias', tensor([0.2761], dtype=torch.float64))])"
      ]
     },
     "execution_count": 7,
     "metadata": {},
     "output_type": "execute_result"
    }
   ],
   "source": [
    "torch.manual_seed(87)\n",
    "model = LinearRegressionModel()\n",
    "model.state_dict()"
   ]
  },
  {
   "cell_type": "code",
   "execution_count": 8,
   "id": "ac8b3b29-b263-4fd5-a408-9b893251c34f",
   "metadata": {},
   "outputs": [
    {
     "data": {
      "text/plain": [
       "(torch.Size([26, 1]), torch.Size([26]))"
      ]
     },
     "execution_count": 8,
     "metadata": {},
     "output_type": "execute_result"
    }
   ],
   "source": [
    "x_train.reshape(-1,1).shape,y_train.shape"
   ]
  },
  {
   "cell_type": "code",
   "execution_count": 9,
   "id": "afe7b8e8-5657-41c7-926c-fff9069eadf6",
   "metadata": {},
   "outputs": [],
   "source": [
    "cost_fn = nn.MSELoss() #https://docs.pytorch.org/docs/stable/generated/torch.nn.MSELoss.html#torch.nn.MSELoss"
   ]
  },
  {
   "cell_type": "code",
   "execution_count": 10,
   "id": "d9186399-7870-428e-9d4f-717e8245c541",
   "metadata": {},
   "outputs": [],
   "source": [
    "x_train = x_train.reshape(-1,1) #reshape x_train and y_train to tally shape\n",
    "y_train = y_train.reshape(-1,1) \n",
    "x_test = x_test.reshape(-1,1) \n",
    "y_test = y_test.reshape(-1,1) "
   ]
  },
  {
   "cell_type": "code",
   "execution_count": 11,
   "id": "9975e4d9-8cc0-45f9-9816-2e036a9f5398",
   "metadata": {},
   "outputs": [],
   "source": [
    "# y_pred = w*x +b\n",
    "# def compute_cost(x,y,w,b):\n",
    "#     y_pred = w*x + b\n",
    "#     cost = (y - y_pred)**2\n",
    "#     cost = cost.sum()/len(x)\n",
    "\n",
    "#     return cost"
   ]
  },
  {
   "cell_type": "code",
   "execution_count": 12,
   "id": "2f4611e6-b156-4a00-a8d8-e84db7fb46e8",
   "metadata": {},
   "outputs": [
    {
     "name": "stdout",
     "output_type": "stream",
     "text": [
      "OrderedDict([('linear_layer.weight', tensor([[-0.9419]], dtype=torch.float64)), ('linear_layer.bias', tensor([0.2761], dtype=torch.float64))])\n",
      "tensor(194676.7224, dtype=torch.float64, grad_fn=<MseLossBackward0>)\n",
      "OrderedDict([('linear_layer.weight', tensor([[-0.9339]], dtype=torch.float64)), ('linear_layer.bias', tensor([0.2761], dtype=torch.float64))])\n",
      "tensor(194036.3670, dtype=torch.float64, grad_fn=<MseLossBackward0>)\n"
     ]
    }
   ],
   "source": [
    "y_pred = model(x_train)\n",
    "cost = cost_fn(y_pred,y_train)\n",
    "print(model.state_dict()) #before\n",
    "print(cost) #before\n",
    "\n",
    "optimizer = torch.optim.SGD(model.parameters(), lr=0.0000001) #https://docs.pytorch.org/docs/stable/optim.html#optimizer-step\n",
    "optimizer.zero_grad()\n",
    "cost.backward()\n",
    "optimizer.step()\n",
    "\n",
    "y_pred = model(x_train)\n",
    "cost = cost_fn(y_pred,y_train)\n",
    "print(model.state_dict()) #after\n",
    "print(cost) #after"
   ]
  },
  {
   "cell_type": "code",
   "execution_count": 13,
   "id": "3a587299-05d8-43b9-8ece-cdf5fbc0a94b",
   "metadata": {},
   "outputs": [
    {
     "name": "stdout",
     "output_type": "stream",
     "text": [
      "    0 - train_cost :  1.9404e+05 : test_cost :  1.8902e+05\n",
      "   10 - train_cost :  1.8776e+05 : test_cost :  1.8255e+05\n",
      "   20 - train_cost :  1.8169e+05 : test_cost :  1.7631e+05\n",
      "   30 - train_cost :  1.7584e+05 : test_cost :  1.7029e+05\n",
      "   40 - train_cost :  1.7018e+05 : test_cost :  1.6450e+05\n",
      "   50 - train_cost :  1.6473e+05 : test_cost :  1.5891e+05\n",
      "   60 - train_cost :  1.5946e+05 : test_cost :  1.5352e+05\n",
      "   70 - train_cost :  1.5437e+05 : test_cost :  1.4833e+05\n",
      "   80 - train_cost :  1.4946e+05 : test_cost :  1.4333e+05\n",
      "   90 - train_cost :  1.4472e+05 : test_cost :  1.3850e+05\n"
     ]
    }
   ],
   "source": [
    "#Loop\n",
    "epochs = 100\n",
    "\n",
    "train_cost_hist = []\n",
    "test_cost_hist = []\n",
    "\n",
    "for epoch in range(epochs):\n",
    "    model.train() # to indicate now is in train phase\n",
    "    y_pred = model(x_train)  \n",
    "    train_cost = cost_fn(y_pred,y_train)\n",
    "    train_cost_hist.append(train_cost.detach().numpy()) # .detach().numpy() is convert the cost to numpy without track the gradient descent \n",
    "\n",
    "    optimizer.zero_grad()\n",
    "    train_cost.backward()\n",
    "    optimizer.step()\n",
    "\n",
    "    model.eval() # to indicate now is in test phase\n",
    "    with torch.inference_mode():\n",
    "        test_pred = model(x_test)  \n",
    "        test_cost = cost_fn(test_pred,y_test)\n",
    "        test_cost_hist.append(test_cost.detach().numpy())\n",
    "\n",
    "    if epoch%10==0:\n",
    "        print(f\"{epoch:5} - train_cost : {train_cost: .4e} : test_cost : {test_cost : .4e}\")"
   ]
  },
  {
   "cell_type": "code",
   "execution_count": 14,
   "id": "95b30171-78bc-4091-8b43-6e16a6710625",
   "metadata": {},
   "outputs": [
    {
     "data": {
      "text/plain": [
       "OrderedDict([('linear_layer.weight', tensor([[-0.2005]], dtype=torch.float64)),\n",
       "             ('linear_layer.bias', tensor([0.2833], dtype=torch.float64))])"
      ]
     },
     "execution_count": 14,
     "metadata": {},
     "output_type": "execute_result"
    }
   ],
   "source": [
    "model.state_dict()"
   ]
  },
  {
   "cell_type": "code",
   "execution_count": 15,
   "id": "435face0-e667-4845-8607-7dae2e240232",
   "metadata": {},
   "outputs": [],
   "source": [
    "#Save\n",
    "torch.save(obj = model.state_dict(), f = \"pytorch_linear_regression_result.pth\")"
   ]
  },
  {
   "cell_type": "code",
   "execution_count": null,
   "id": "ce28c238-72af-4598-8f84-65bf5523575d",
   "metadata": {},
   "outputs": [],
   "source": []
  },
  {
   "cell_type": "markdown",
   "id": "b970a45d-af72-4553-a4cd-dfa9419fc146",
   "metadata": {},
   "source": [
    "## Train with GPU"
   ]
  },
  {
   "cell_type": "code",
   "execution_count": 16,
   "id": "37836b50-ace2-44da-9b7a-90e5d3a51424",
   "metadata": {},
   "outputs": [
    {
     "data": {
      "text/plain": [
       "OrderedDict([('linear_layer.weight', tensor([[-0.2918]], dtype=torch.float64)),\n",
       "             ('linear_layer.bias', tensor([-0.2794], dtype=torch.float64))])"
      ]
     },
     "execution_count": 16,
     "metadata": {},
     "output_type": "execute_result"
    }
   ],
   "source": [
    "# load\n",
    "model_new1 = LinearRegressionModel()\n",
    "model_new1.state_dict() #before load"
   ]
  },
  {
   "cell_type": "code",
   "execution_count": 17,
   "id": "1d749e8a-fff5-4cdc-a447-fa4cbb1f1f98",
   "metadata": {},
   "outputs": [
    {
     "data": {
      "text/plain": [
       "<All keys matched successfully>"
      ]
     },
     "execution_count": 17,
     "metadata": {},
     "output_type": "execute_result"
    }
   ],
   "source": [
    "#Load\n",
    "model_new1.load_state_dict(torch.load(f = \"pytorch_linear_regression_result.pth\"))"
   ]
  },
  {
   "cell_type": "code",
   "execution_count": 18,
   "id": "f8888597-362d-4ed4-a734-031277d2e475",
   "metadata": {},
   "outputs": [
    {
     "data": {
      "text/plain": [
       "OrderedDict([('linear_layer.weight', tensor([[-0.2005]], dtype=torch.float64)),\n",
       "             ('linear_layer.bias', tensor([0.2833], dtype=torch.float64))])"
      ]
     },
     "execution_count": 18,
     "metadata": {},
     "output_type": "execute_result"
    }
   ],
   "source": [
    "#after load\n",
    "model_new1.state_dict()"
   ]
  },
  {
   "cell_type": "code",
   "execution_count": 19,
   "id": "354c500e-867f-4edd-bc3d-1b0a2ec32e75",
   "metadata": {},
   "outputs": [
    {
     "data": {
      "text/plain": [
       "'cuda'"
      ]
     },
     "execution_count": 19,
     "metadata": {},
     "output_type": "execute_result"
    }
   ],
   "source": [
    "device = \"cuda\" if torch.cuda.is_available() else \"cpu\"\n",
    "device"
   ]
  },
  {
   "cell_type": "code",
   "execution_count": 20,
   "id": "81143025-5ffd-4d32-8b3c-29d80b735826",
   "metadata": {},
   "outputs": [
    {
     "data": {
      "text/plain": [
       "device(type='cuda', index=0)"
      ]
     },
     "execution_count": 20,
     "metadata": {},
     "output_type": "execute_result"
    }
   ],
   "source": [
    "model_new1 = model_new1.to(device)\n",
    "model_new1.linear_layer.weight.device"
   ]
  },
  {
   "cell_type": "code",
   "execution_count": 21,
   "id": "09f72cad-cca2-4a97-94e9-34e49a187df6",
   "metadata": {},
   "outputs": [],
   "source": [
    "x_train = x_train.to(device)\n",
    "x_test = x_test.to(device)\n",
    "y_train = y_train.to(device)\n",
    "y_test = x_test.to(device)"
   ]
  },
  {
   "cell_type": "code",
   "execution_count": 22,
   "id": "845a2d68-834f-4537-a9d9-10f0cea0163b",
   "metadata": {},
   "outputs": [
    {
     "name": "stdout",
     "output_type": "stream",
     "text": [
      "OrderedDict([('linear_layer.weight', tensor([[-0.2005]], device='cuda:0', dtype=torch.float64)), ('linear_layer.bias', tensor([0.2833], device='cuda:0', dtype=torch.float64))])\n",
      "tensor(140144.0466, device='cuda:0', dtype=torch.float64,\n",
      "       grad_fn=<MseLossBackward0>)\n",
      "OrderedDict([('linear_layer.weight', tensor([[-0.1998]], device='cuda:0', dtype=torch.float64)), ('linear_layer.bias', tensor([0.2833], device='cuda:0', dtype=torch.float64))])\n",
      "tensor(140099.1198, device='cuda:0', dtype=torch.float64,\n",
      "       grad_fn=<MseLossBackward0>)\n"
     ]
    }
   ],
   "source": [
    "cost_fn = nn.MSELoss()\n",
    "\n",
    "y_pred = model_new1(x_train) #before\n",
    "cost = cost_fn(y_pred, y_train) #before\n",
    "print(model_new1.state_dict()) #before\n",
    "print(cost) #before\n",
    "\n",
    "optimizer = torch.optim.SGD(params = model_new1.parameters(),lr = 0.00000001)\n",
    "optimizer.zero_grad()  #have set to zero, otherwise it will iterative\n",
    "cost.backward()\n",
    "optimizer.step()\n",
    "\n",
    "y_pred = model_new1(x_train) #after\n",
    "cost = cost_fn(y_pred, y_train) #after\n",
    "print(model_new1.state_dict()) #after\n",
    "print(cost) #after"
   ]
  },
  {
   "cell_type": "code",
   "execution_count": 23,
   "id": "a0277a8d-29c4-463d-8fcc-fca2eace4184",
   "metadata": {},
   "outputs": [
    {
     "name": "stdout",
     "output_type": "stream",
     "text": [
      "    0 - train_cost :  1.4010e+05 : test_cost :  1.4101e+04\n",
      " 1000 - train_cost :  1.0222e+05 : test_cost :  3.3357e+03\n",
      " 2000 - train_cost :  7.5571e+04 : test_cost :  4.3472e+01\n",
      " 3000 - train_cost :  5.6815e+04 : test_cost :  1.3197e+03\n",
      " 4000 - train_cost :  4.3617e+04 : test_cost :  5.2319e+03\n",
      " 5000 - train_cost :  3.4329e+04 : test_cost :  1.0513e+04\n",
      " 6000 - train_cost :  2.7793e+04 : test_cost :  1.6351e+04\n",
      " 7000 - train_cost :  2.3194e+04 : test_cost :  2.2238e+04\n",
      " 8000 - train_cost :  1.9958e+04 : test_cost :  2.7873e+04\n",
      " 9000 - train_cost :  1.7680e+04 : test_cost :  3.3091e+04\n"
     ]
    }
   ],
   "source": [
    "#Loop\n",
    "epochs = 10000\n",
    "\n",
    "train_cost_hist = []\n",
    "test_cost_hist = []\n",
    "\n",
    "for epoch in range(epochs):\n",
    "    model_new1.train() # to indicate now is in train phase\n",
    "    y_pred = model_new1(x_train)  \n",
    "    train_cost = cost_fn(y_pred,y_train)\n",
    "    train_cost_hist.append(train_cost.cpu().detach().numpy()) # .detach().numpy() is convert the cost to numpy without track the gradient descent \n",
    "\n",
    "    optimizer.zero_grad()\n",
    "    train_cost.backward()\n",
    "    optimizer.step()\n",
    "\n",
    "    model_new1.eval() # to indicate now is in test phase\n",
    "    with torch.inference_mode():\n",
    "        test_pred = model_new1(x_test)  \n",
    "        test_cost = cost_fn(test_pred,y_test)\n",
    "        test_cost_hist.append(test_cost.cpu().detach().numpy())\n",
    "\n",
    "    if epoch%1000==0:\n",
    "        print(f\"{epoch:5} - train_cost : {train_cost: .4e} : test_cost : {test_cost : .4e}\")"
   ]
  }
 ],
 "metadata": {
  "kernelspec": {
   "display_name": "Python 3 (ipykernel)",
   "language": "python",
   "name": "python3"
  },
  "language_info": {
   "codemirror_mode": {
    "name": "ipython",
    "version": 3
   },
   "file_extension": ".py",
   "mimetype": "text/x-python",
   "name": "python",
   "nbconvert_exporter": "python",
   "pygments_lexer": "ipython3",
   "version": "3.9.23"
  }
 },
 "nbformat": 4,
 "nbformat_minor": 5
}
