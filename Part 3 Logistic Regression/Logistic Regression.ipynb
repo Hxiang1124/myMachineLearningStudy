{
 "cells": [
  {
   "cell_type": "code",
   "execution_count": 1,
   "id": "ed5fc772-ba56-49b2-8aef-40b0a1d602f5",
   "metadata": {},
   "outputs": [],
   "source": [
    "import pandas as pd"
   ]
  },
  {
   "cell_type": "code",
   "execution_count": 2,
   "id": "32d4202d-88c4-46bb-b392-b3d2d60b1334",
   "metadata": {},
   "outputs": [
    {
     "data": {
      "text/html": [
       "<div>\n",
       "<style scoped>\n",
       "    .dataframe tbody tr th:only-of-type {\n",
       "        vertical-align: middle;\n",
       "    }\n",
       "\n",
       "    .dataframe tbody tr th {\n",
       "        vertical-align: top;\n",
       "    }\n",
       "\n",
       "    .dataframe thead th {\n",
       "        text-align: right;\n",
       "    }\n",
       "</style>\n",
       "<table border=\"1\" class=\"dataframe\">\n",
       "  <thead>\n",
       "    <tr style=\"text-align: right;\">\n",
       "      <th></th>\n",
       "      <th>Age</th>\n",
       "      <th>Loan</th>\n",
       "      <th>MonthlyPaid</th>\n",
       "      <th>Gender</th>\n",
       "      <th>Credit Risk Prediction</th>\n",
       "    </tr>\n",
       "  </thead>\n",
       "  <tbody>\n",
       "    <tr>\n",
       "      <th>0</th>\n",
       "      <td>25</td>\n",
       "      <td>586000</td>\n",
       "      <td>2250</td>\n",
       "      <td>m</td>\n",
       "      <td>Yes</td>\n",
       "    </tr>\n",
       "    <tr>\n",
       "      <th>1</th>\n",
       "      <td>63</td>\n",
       "      <td>869000</td>\n",
       "      <td>4950</td>\n",
       "      <td>f</td>\n",
       "      <td>No</td>\n",
       "    </tr>\n",
       "    <tr>\n",
       "      <th>2</th>\n",
       "      <td>49</td>\n",
       "      <td>665000</td>\n",
       "      <td>4500</td>\n",
       "      <td>m</td>\n",
       "      <td>Yes</td>\n",
       "    </tr>\n",
       "    <tr>\n",
       "      <th>3</th>\n",
       "      <td>66</td>\n",
       "      <td>245000</td>\n",
       "      <td>4700</td>\n",
       "      <td>m</td>\n",
       "      <td>No</td>\n",
       "    </tr>\n",
       "    <tr>\n",
       "      <th>4</th>\n",
       "      <td>21</td>\n",
       "      <td>282000</td>\n",
       "      <td>1000</td>\n",
       "      <td>f</td>\n",
       "      <td>Yes</td>\n",
       "    </tr>\n",
       "    <tr>\n",
       "      <th>...</th>\n",
       "      <td>...</td>\n",
       "      <td>...</td>\n",
       "      <td>...</td>\n",
       "      <td>...</td>\n",
       "      <td>...</td>\n",
       "    </tr>\n",
       "    <tr>\n",
       "      <th>294</th>\n",
       "      <td>62</td>\n",
       "      <td>662000</td>\n",
       "      <td>600</td>\n",
       "      <td>f</td>\n",
       "      <td>No</td>\n",
       "    </tr>\n",
       "    <tr>\n",
       "      <th>295</th>\n",
       "      <td>40</td>\n",
       "      <td>195000</td>\n",
       "      <td>3850</td>\n",
       "      <td>f</td>\n",
       "      <td>Yes</td>\n",
       "    </tr>\n",
       "    <tr>\n",
       "      <th>296</th>\n",
       "      <td>22</td>\n",
       "      <td>215000</td>\n",
       "      <td>1000</td>\n",
       "      <td>f</td>\n",
       "      <td>Yes</td>\n",
       "    </tr>\n",
       "    <tr>\n",
       "      <th>297</th>\n",
       "      <td>59</td>\n",
       "      <td>349000</td>\n",
       "      <td>2150</td>\n",
       "      <td>m</td>\n",
       "      <td>No</td>\n",
       "    </tr>\n",
       "    <tr>\n",
       "      <th>298</th>\n",
       "      <td>34</td>\n",
       "      <td>533000</td>\n",
       "      <td>3150</td>\n",
       "      <td>f</td>\n",
       "      <td>Yes</td>\n",
       "    </tr>\n",
       "  </tbody>\n",
       "</table>\n",
       "<p>299 rows × 5 columns</p>\n",
       "</div>"
      ],
      "text/plain": [
       "     Age    Loan  MonthlyPaid Gender Credit Risk Prediction\n",
       "0     25  586000         2250      m                    Yes\n",
       "1     63  869000         4950      f                     No\n",
       "2     49  665000         4500      m                    Yes\n",
       "3     66  245000         4700      m                     No\n",
       "4     21  282000         1000      f                    Yes\n",
       "..   ...     ...          ...    ...                    ...\n",
       "294   62  662000          600      f                     No\n",
       "295   40  195000         3850      f                    Yes\n",
       "296   22  215000         1000      f                    Yes\n",
       "297   59  349000         2150      m                     No\n",
       "298   34  533000         3150      f                    Yes\n",
       "\n",
       "[299 rows x 5 columns]"
      ]
     },
     "execution_count": 2,
     "metadata": {},
     "output_type": "execute_result"
    }
   ],
   "source": [
    "url = \"Credit_Risk_Prediction.csv\"\n",
    "data = pd.read_csv(url)\n",
    "data"
   ]
  },
  {
   "cell_type": "code",
   "execution_count": 3,
   "id": "8e93728a-fbf2-4659-a8bf-7fb20b8a95d7",
   "metadata": {
    "scrolled": true
   },
   "outputs": [],
   "source": [
    "#Convert the unit of Loan and MonthlyPaid to (k)\n",
    "data[\"Loan\"] = data[\"Loan\"] / 1000\n",
    "data[\"MonthlyPaid\"] = data[\"MonthlyPaid\"] / 1000"
   ]
  },
  {
   "cell_type": "code",
   "execution_count": 4,
   "id": "dd820343-604f-4b02-885e-c4e144fccd0b",
   "metadata": {},
   "outputs": [],
   "source": [
    "data[\"Gender\"] = data[\"Gender\"].map({\"m\":1 , \"f\":0})\n",
    "data[\"Credit Risk Prediction\"] = data[\"Credit Risk Prediction\"].map({\"Yes\":1 , \"No\":0})"
   ]
  },
  {
   "cell_type": "code",
   "execution_count": 5,
   "id": "fc937a64-3721-423a-9320-aa139bd6cd94",
   "metadata": {},
   "outputs": [],
   "source": [
    "from sklearn.model_selection import train_test_split\n",
    "\n",
    "x = data[[\"Age\",\"Loan\",\"MonthlyPaid\",\"Gender\"]]\n",
    "y = data[\"Credit Risk Prediction\"]\n",
    "\n",
    "x_train,x_test,y_train,y_test = train_test_split(x,y,test_size=0.2,random_state=87)\n",
    "x_train = x_train.to_numpy()\n",
    "x_test = x_test.to_numpy()"
   ]
  },
  {
   "cell_type": "markdown",
   "id": "85551499-1056-4ef7-962c-641c31a97f36",
   "metadata": {},
   "source": [
    "## Feature Scaler"
   ]
  },
  {
   "cell_type": "code",
   "execution_count": 6,
   "id": "8ed8feaf-f5c9-420e-9323-e7b5ee1fbbea",
   "metadata": {},
   "outputs": [],
   "source": [
    "from sklearn.preprocessing import StandardScaler\n",
    "\n",
    "scaler = StandardScaler()\n",
    "scaler.fit(x_train)\n",
    "x_train = scaler.transform(x_train)\n",
    "x_test = scaler.transform(x_test)"
   ]
  },
  {
   "cell_type": "code",
   "execution_count": 7,
   "id": "48316478-71e3-43f7-8758-a35e25443aee",
   "metadata": {},
   "outputs": [],
   "source": [
    "import numpy as np"
   ]
  },
  {
   "cell_type": "code",
   "execution_count": 8,
   "id": "7fbd4823-b7d6-4f23-969b-6e51fd7f91b2",
   "metadata": {},
   "outputs": [],
   "source": [
    "w = np.array([1,2,3,4])\n",
    "b = 1"
   ]
  },
  {
   "cell_type": "code",
   "execution_count": 9,
   "id": "1ed6fc4c-db1d-40f6-9845-d22754e6419f",
   "metadata": {},
   "outputs": [],
   "source": [
    "def sigmoid(z):\n",
    "    return 1/(1+np.exp(-z))"
   ]
  },
  {
   "cell_type": "code",
   "execution_count": 11,
   "id": "4830d75e-cd7e-4d85-b9fd-8b3155b8640a",
   "metadata": {
    "scrolled": true
   },
   "outputs": [
    {
     "data": {
      "text/plain": [
       "array([9.99746762e-01, 8.79277770e-01, 9.57586723e-01, 5.63990514e-03,\n",
       "       6.62933641e-01, 9.94401452e-01, 9.99685627e-01, 9.85627444e-01,\n",
       "       3.03202418e-02, 1.46912377e-03, 3.58665440e-03, 9.94819355e-01,\n",
       "       4.77775989e-01, 8.00938174e-01, 9.99974360e-01, 5.12543280e-01,\n",
       "       3.11106489e-02, 9.99997786e-01, 7.68328909e-01, 9.59556870e-01,\n",
       "       7.69492546e-01, 9.50523810e-01, 4.77907459e-02, 9.99855398e-01,\n",
       "       9.45187751e-01, 9.99999006e-01, 6.92083093e-01, 9.98493887e-01,\n",
       "       1.53110462e-02, 9.89785957e-01, 2.38305508e-01, 2.26852978e-01,\n",
       "       9.99897426e-01, 6.48460841e-01, 9.86194641e-01, 2.63321341e-01,\n",
       "       7.77172131e-02, 3.38939487e-01, 8.90133248e-01, 9.99980645e-01,\n",
       "       9.98495219e-01, 1.88875537e-02, 9.68547667e-01, 5.75954750e-03,\n",
       "       4.40748702e-01, 9.33133328e-01, 9.69420605e-01, 9.94509348e-01,\n",
       "       9.96934886e-01, 9.95206129e-01, 8.99889176e-05, 5.86536504e-03,\n",
       "       4.34843513e-01, 9.98454253e-01, 7.16122568e-01, 9.97730791e-01,\n",
       "       2.93111212e-02, 3.27139771e-02, 9.99144962e-01, 3.94554615e-02,\n",
       "       1.15083208e-03, 5.03710317e-02, 9.99935258e-01, 9.98754039e-01,\n",
       "       7.13515124e-04, 9.88792380e-01, 9.99992462e-01, 9.96881225e-01,\n",
       "       1.55814131e-01, 9.97565581e-01, 2.60744285e-04, 6.37214306e-01,\n",
       "       1.24691932e-03, 2.76215049e-01, 1.82280727e-01, 3.60381944e-01,\n",
       "       9.32905308e-01, 1.04840399e-02, 3.09907933e-04, 9.99612984e-01,\n",
       "       7.12487175e-01, 9.99894788e-01, 6.20724279e-06, 8.43311204e-04,\n",
       "       9.99943210e-01, 9.98871382e-01, 1.14180323e-01, 7.56988000e-02,\n",
       "       5.33908216e-02, 9.98325967e-01, 1.22432263e-02, 9.99984228e-01,\n",
       "       9.94464439e-01, 2.68684563e-01, 4.05597606e-01, 2.22388874e-05,\n",
       "       9.98724788e-01, 9.99276446e-01, 9.89312841e-01, 7.26130596e-01,\n",
       "       9.87947241e-01, 9.99839463e-01, 5.45704576e-03, 7.38718849e-05,\n",
       "       1.63590091e-04, 9.95438910e-01, 7.98635042e-02, 9.92998946e-01,\n",
       "       4.48914029e-02, 6.37859082e-01, 2.01445625e-01, 4.47689140e-03,\n",
       "       9.95507205e-01, 5.30421793e-01, 9.98456731e-01, 9.16436651e-01,\n",
       "       2.82403962e-03, 9.29822693e-01, 2.85005414e-02, 9.98961873e-01,\n",
       "       1.56711902e-03, 1.23704798e-02, 5.04035521e-05, 8.42330924e-01,\n",
       "       9.99652876e-01, 6.49660256e-04, 9.96119243e-01, 9.99525604e-01,\n",
       "       6.76932627e-04, 7.44594405e-02, 9.98918592e-01, 6.36048346e-03,\n",
       "       9.99736668e-01, 9.99991855e-01, 6.96142036e-02, 7.81548775e-01,\n",
       "       9.96832296e-01, 6.14317840e-02, 2.35229771e-02, 1.34752739e-04,\n",
       "       9.99543796e-01, 3.91624095e-04, 1.26255756e-01, 3.77418168e-01,\n",
       "       9.99900578e-01, 9.99996671e-01, 2.62861508e-03, 9.96519439e-01,\n",
       "       2.01781256e-02, 9.94828506e-01, 9.99962596e-01, 1.81377065e-02,\n",
       "       9.68471341e-01, 9.99995357e-01, 2.07498085e-02, 9.99983209e-01,\n",
       "       9.99987040e-01, 4.95599377e-01, 9.99868961e-01, 6.58493104e-01,\n",
       "       9.82429360e-01, 1.51109160e-03, 9.10739228e-01, 9.45751817e-02,\n",
       "       9.10884546e-01, 1.43996535e-05, 1.83219393e-02, 9.99979787e-01,\n",
       "       2.45130652e-05, 1.43312142e-02, 9.84594107e-01, 9.98640759e-01,\n",
       "       6.43077066e-01, 3.39790815e-01, 9.93878951e-01, 9.77417528e-01,\n",
       "       9.86813575e-01, 9.55730816e-01, 9.01532648e-01, 3.75531033e-02,\n",
       "       6.99969668e-01, 5.15866682e-03, 9.99954421e-01, 6.87858246e-01,\n",
       "       9.45063767e-03, 7.13685360e-02, 9.99968458e-01, 6.54695994e-01,\n",
       "       9.21526622e-01, 3.46011835e-03, 8.84330178e-01, 9.68409352e-01,\n",
       "       6.76225943e-03, 3.74588338e-02, 7.38649760e-03, 9.59824974e-01,\n",
       "       6.46502446e-05, 1.39443525e-03, 9.64219237e-01, 4.78293064e-01,\n",
       "       2.26050848e-01, 9.99973410e-01, 4.56385322e-03, 9.89355605e-01,\n",
       "       5.13422430e-04, 3.76804755e-01, 2.33205088e-01, 9.99561352e-01,\n",
       "       9.78651882e-01, 9.50466049e-03, 8.03151654e-01, 9.63040599e-01,\n",
       "       9.98862528e-01, 7.88222439e-01, 9.98929410e-01, 5.12505939e-01,\n",
       "       1.28971683e-04, 6.62787333e-03, 5.54051469e-01, 1.12907626e-01,\n",
       "       9.99158514e-01, 3.33685189e-05, 9.39622574e-01, 9.88924796e-01,\n",
       "       9.75546130e-02, 9.46616916e-01, 9.99943552e-01, 9.44403774e-01,\n",
       "       2.50382395e-02, 6.20952325e-03, 4.06877562e-01, 5.04876916e-02,\n",
       "       9.99789019e-01, 6.27774473e-01, 6.54187940e-01, 5.29215155e-05,\n",
       "       9.16333183e-01, 9.54473888e-01, 9.98384949e-01])"
      ]
     },
     "execution_count": 11,
     "metadata": {},
     "output_type": "execute_result"
    }
   ],
   "source": [
    "# y_pred = (w * x_train).sum(axis = 1) + b\n",
    "z = (w * x_train).sum(axis = 1) + b\n",
    "\n",
    "sigmoid(z)"
   ]
  },
  {
   "cell_type": "markdown",
   "id": "f41e24e3-8c47-40c5-8aa5-a59b18932926",
   "metadata": {},
   "source": [
    "## Binary Cross Entropy"
   ]
  },
  {
   "cell_type": "code",
   "execution_count": 12,
   "id": "4b5470c4-706e-4a62-9d4f-efaa404f82d3",
   "metadata": {},
   "outputs": [
    {
     "data": {
      "text/plain": [
       "np.float64(2.527873380328441)"
      ]
     },
     "execution_count": 12,
     "metadata": {},
     "output_type": "execute_result"
    }
   ],
   "source": [
    "# cost-> when y = 1 , -log(y_pred)\n",
    "# cost-> when y = 0 , -log(1 - y_pred)\n",
    "\n",
    "# cost = -y * log(y_pred) - (1-y)*log(1-y_pred)\n",
    "y_pred = sigmoid(z)\n",
    "cost = -y_train * np.log(y_pred) - (1-y_train)*np.log(1-y_pred)\n",
    "cost.mean()"
   ]
  },
  {
   "cell_type": "code",
   "execution_count": 13,
   "id": "a77c8c09-3a77-4c12-9623-73bcf6c899ee",
   "metadata": {},
   "outputs": [],
   "source": [
    "def compute_cost(x,y,w,b):\n",
    "    z = (w * x).sum(axis = 1) + b\n",
    "    y_pred = sigmoid(z)\n",
    "    cost = -y * np.log(y_pred) - (1-y)*np.log(1-y_pred)\n",
    "    cost = cost.mean()\n",
    "\n",
    "    return cost"
   ]
  },
  {
   "cell_type": "code",
   "execution_count": 14,
   "id": "c1d24e26-8bfb-4357-99a2-9a1686c3a261",
   "metadata": {},
   "outputs": [
    {
     "data": {
      "text/plain": [
       "np.float64(2.527873380328441)"
      ]
     },
     "execution_count": 14,
     "metadata": {},
     "output_type": "execute_result"
    }
   ],
   "source": [
    "compute_cost(x_train,y_train,w,b)"
   ]
  },
  {
   "cell_type": "markdown",
   "id": "5368c434-aa70-4493-872f-a89988cd4bc8",
   "metadata": {},
   "source": [
    "## Gradient Descent"
   ]
  },
  {
   "cell_type": "code",
   "execution_count": 16,
   "id": "03891980-7a88-47c2-ad36-432f7451ed2a",
   "metadata": {},
   "outputs": [],
   "source": [
    "# w1_gradient = 2*x1*(w*x+b - y)\n",
    "#             = 2*x1*(y_pred - y)"
   ]
  },
  {
   "cell_type": "code",
   "execution_count": 18,
   "id": "cbe1e182-d9c0-4a6c-b0b1-262716888ca1",
   "metadata": {},
   "outputs": [
    {
     "data": {
      "text/plain": [
       "(array([0.73190218, 0.56026874, 0.13089824, 0.5866118 ]),\n",
       " np.float64(0.045103162866522335))"
      ]
     },
     "execution_count": 18,
     "metadata": {},
     "output_type": "execute_result"
    }
   ],
   "source": [
    "w = np.array([1,2,3,4])\n",
    "b = 1\n",
    "z = (w * x_train).sum(axis = 1) + b\n",
    "y_pred = sigmoid(z)\n",
    "w_gradient = np.zeros(x_train.shape[1])\n",
    "b_gradient = (y_pred - y_train).mean()\n",
    "\n",
    "for i in range(x_train.shape[1]):\n",
    "    w_gradient[i] = (2 * x_train[:,i] * (y_pred - y_train)).mean()\n",
    "\n",
    "w_gradient,b_gradient"
   ]
  },
  {
   "cell_type": "code",
   "execution_count": 19,
   "id": "57e395f4-fe38-4eb6-b3d7-dbd3b858c560",
   "metadata": {},
   "outputs": [],
   "source": [
    "def compute_gradient(x,y,w,b):\n",
    "    z = (w * x).sum(axis = 1) + b\n",
    "    y_pred = sigmoid(z)\n",
    "    w_gradient = np.zeros(x.shape[1])\n",
    "    b_gradient = (y_pred - y).mean()\n",
    "    \n",
    "    for i in range(x_train.shape[1]):\n",
    "        w_gradient[i] = (2 * x[:,i] * (y_pred - y)).mean()\n",
    "\n",
    "    return w_gradient,b_gradient"
   ]
  },
  {
   "cell_type": "code",
   "execution_count": 20,
   "id": "58473cd5-4eca-4958-ac97-a8505e043c6c",
   "metadata": {},
   "outputs": [
    {
     "data": {
      "text/plain": [
       "(array([0.73190218, 0.56026874, 0.13089824, 0.5866118 ]),\n",
       " np.float64(0.045103162866522335))"
      ]
     },
     "execution_count": 20,
     "metadata": {},
     "output_type": "execute_result"
    }
   ],
   "source": [
    "compute_gradient(x_train,y_train,w,b)"
   ]
  },
  {
   "cell_type": "code",
   "execution_count": 24,
   "id": "b77a86f0-1654-4157-a758-12f904b40f42",
   "metadata": {},
   "outputs": [
    {
     "name": "stdout",
     "output_type": "stream",
     "text": [
      "2.527873380328441\n",
      "1.935758241659671\n"
     ]
    }
   ],
   "source": [
    "w = np.array([1,2,3,4])\n",
    "b = 1\n",
    "learning_rate = 1\n",
    "\n",
    "w_gradient,b_gradient = compute_gradient(x_train,y_train,w,b)\n",
    "print(compute_cost(x_train,y_train,w,b))\n",
    "\n",
    "w = w - w_gradient * learning_rate\n",
    "b = b - b_gradient * learning_rate\n",
    "\n",
    "print(compute_cost(x_train,y_train,w,b))"
   ]
  },
  {
   "cell_type": "code",
   "execution_count": 25,
   "id": "33540ca8-8f74-45e6-b346-9bbe0a40503a",
   "metadata": {},
   "outputs": [],
   "source": [
    "def gradient_descent(x,y,w_init,b_init,cost_function,gradient_function,learning_rate,run_iter,p_iter = 1000):\n",
    "    c_record = []\n",
    "    w_record = []\n",
    "    b_record = []\n",
    "\n",
    "    w = w_init\n",
    "    b = b_init\n",
    "    \n",
    "    for i in range(run_iter):\n",
    "        w_gradient,b_gradient = compute_gradient(x,y,w,b)\n",
    "        w = w - w_gradient * learning_rate\n",
    "        b = b - b_gradient * learning_rate\n",
    "        cost = compute_cost(x,y,w,b)\n",
    "\n",
    "        c_record.append(cost)\n",
    "        w_record.append(w)\n",
    "        b_record.append(b)\n",
    "\n",
    "        if i % p_iter == 0:\n",
    "            print(f\"Iteration {i:5}: Cost {cost:.2f}: w {w}: b {b:.2f} :w_gradient {w_gradient}: b_gradient {b_gradient:.2f}\")\n",
    "    return w,b,c_record,w_record,b_record"
   ]
  },
  {
   "cell_type": "code",
   "execution_count": 27,
   "id": "8372e42b-8f46-43f4-9e9f-bb056d40c43d",
   "metadata": {},
   "outputs": [
    {
     "name": "stdout",
     "output_type": "stream",
     "text": [
      "Iteration     0: Cost 1.94: w [0.26809782 1.43973126 2.86910176 3.4133882 ]: b 0.95 :w_gradient [0.73190218 0.56026874 0.13089824 0.5866118 ]: b_gradient 0.05\n",
      "Iteration  1000: Cost 0.19: w [-4.47976308 -2.64655716  2.64581782  0.71832414]: b 0.04 :w_gradient [ 1.79417840e-07  1.19112916e-07 -1.17409796e-07 -2.54335334e-08]: b_gradient 0.00\n",
      "Iteration  2000: Cost 0.19: w [-4.47977905 -2.64656776  2.64582828  0.7183264 ]: b 0.04 :w_gradient [ 2.52596874e-12  1.67693892e-12 -1.65292048e-12 -3.58061326e-13]: b_gradient 0.00\n",
      "Iteration  3000: Cost 0.19: w [-4.47977905 -2.64656776  2.64582828  0.7183264 ]: b 0.04 :w_gradient [ 4.36656754e-16  2.07295826e-16 -1.96031011e-16 -3.43751062e-17]: b_gradient 0.00\n",
      "Iteration  4000: Cost 0.19: w [-4.47977905 -2.64656776  2.64582828  0.7183264 ]: b 0.04 :w_gradient [ 4.36656754e-16  2.07295826e-16 -1.96031011e-16 -3.43751062e-17]: b_gradient 0.00\n",
      "Iteration  5000: Cost 0.19: w [-4.47977905 -2.64656776  2.64582828  0.7183264 ]: b 0.04 :w_gradient [ 4.36656754e-16  2.07295826e-16 -1.96031011e-16 -3.43751062e-17]: b_gradient 0.00\n",
      "Iteration  6000: Cost 0.19: w [-4.47977905 -2.64656776  2.64582828  0.7183264 ]: b 0.04 :w_gradient [ 4.36656754e-16  2.07295826e-16 -1.96031011e-16 -3.43751062e-17]: b_gradient 0.00\n",
      "Iteration  7000: Cost 0.19: w [-4.47977905 -2.64656776  2.64582828  0.7183264 ]: b 0.04 :w_gradient [ 4.36656754e-16  2.07295826e-16 -1.96031011e-16 -3.43751062e-17]: b_gradient 0.00\n",
      "Iteration  8000: Cost 0.19: w [-4.47977905 -2.64656776  2.64582828  0.7183264 ]: b 0.04 :w_gradient [ 4.36656754e-16  2.07295826e-16 -1.96031011e-16 -3.43751062e-17]: b_gradient 0.00\n",
      "Iteration  9000: Cost 0.19: w [-4.47977905 -2.64656776  2.64582828  0.7183264 ]: b 0.04 :w_gradient [ 4.36656754e-16  2.07295826e-16 -1.96031011e-16 -3.43751062e-17]: b_gradient 0.00\n"
     ]
    }
   ],
   "source": [
    "w_init = np.array([1,2,3,4])\n",
    "b_init = 1\n",
    "learning_rate = 1\n",
    "run_iter = 10000\n",
    "\n",
    "w_final,b_final,c_record,w_record,b_record = gradient_descent(x_train,y_train,w_init,b_init,compute_cost,compute_gradient,learning_rate,run_iter,p_iter = 1000)"
   ]
  },
  {
   "cell_type": "code",
   "execution_count": 28,
   "id": "703c2161-aa50-4061-8796-a0b5413d0dcb",
   "metadata": {},
   "outputs": [
    {
     "data": {
      "image/png": "[encoded data removed]",
      "text/plain": [
       "<Figure size 640x480 with 1 Axes>"
      ]
     },
     "metadata": {},
     "output_type": "display_data"
    }
   ],
   "source": [
    "import matplotlib.pyplot as plt\n",
    "import numpy as np\n",
    "\n",
    "# plt.plot(np.arange(0,20000),c_hist)\n",
    "plt.plot(np.arange(0,100),c_record[:100])\n",
    "plt.title(\"iteration vs cost\")\n",
    "plt.xlabel(\"iteration\")\n",
    "plt.ylabel(\"cost\")\n",
    "plt.show()"
   ]
  },
  {
   "cell_type": "code",
   "execution_count": 29,
   "id": "56b47a8f-8cf3-4c9a-8708-5754ae015ef9",
   "metadata": {
    "scrolled": true
   },
   "outputs": [
    {
     "data": {
      "text/plain": [
       "array([6.58568640e-01, 7.71853697e-04, 2.79875044e-03, 4.47956102e-06,\n",
       "       9.97377090e-01, 1.23771340e-01, 9.95664661e-01, 9.99990372e-01,\n",
       "       2.98632593e-01, 9.50302519e-02, 1.12614274e-02, 9.99781379e-01,\n",
       "       1.42645207e-02, 9.94754096e-01, 7.30841403e-01, 1.32404580e-05,\n",
       "       1.07233493e-04, 9.99472624e-01, 9.99954840e-01, 9.96380743e-01,\n",
       "       6.64077317e-01, 4.99788163e-02, 5.06884222e-02, 9.68489725e-01,\n",
       "       2.78896599e-03, 8.40149783e-01, 9.99787868e-01, 9.98325439e-01,\n",
       "       9.24694710e-01, 7.98512514e-02, 4.73730812e-06, 9.99997554e-01,\n",
       "       9.95670190e-01, 9.99949057e-01, 4.92431371e-03, 9.04189843e-03,\n",
       "       7.18926197e-02, 9.99967136e-01, 9.98461130e-01, 9.92944327e-01,\n",
       "       1.13353679e-04, 7.49687714e-05, 9.98975476e-01, 9.95351770e-01,\n",
       "       9.75037728e-01, 9.96044544e-01, 9.99745558e-01, 2.59098334e-01,\n",
       "       9.95680166e-01, 3.32259819e-02, 9.98422809e-01, 3.91755946e-01,\n",
       "       9.94469776e-01, 6.41516274e-02, 9.85849895e-01, 7.88053827e-01,\n",
       "       4.98763311e-02, 9.51600917e-01, 1.14275428e-02, 2.62034667e-03])"
      ]
     },
     "execution_count": 29,
     "metadata": {},
     "output_type": "execute_result"
    }
   ],
   "source": [
    "z = (w_final * x_test).sum(axis=1) + b\n",
    "y_pred = sigmoid(z)\n",
    "y_pred"
   ]
  },
  {
   "cell_type": "code",
   "execution_count": 30,
   "id": "97cb929b-c9ea-44ce-a1a1-d59ea6df007b",
   "metadata": {},
   "outputs": [
    {
     "data": {
      "text/plain": [
       "array([1, 0, 0, 0, 1, 0, 1, 1, 0, 0, 0, 1, 0, 1, 1, 0, 0, 1, 1, 1, 1, 0,\n",
       "       0, 1, 0, 1, 1, 1, 1, 0, 0, 1, 1, 1, 0, 0, 0, 1, 1, 1, 0, 0, 1, 1,\n",
       "       1, 1, 1, 0, 1, 0, 1, 0, 1, 0, 1, 1, 0, 1, 0, 0])"
      ]
     },
     "execution_count": 30,
     "metadata": {},
     "output_type": "execute_result"
    }
   ],
   "source": [
    "y_pred = np.where(y_pred>0.5,1,0)\n",
    "y_pred"
   ]
  },
  {
   "cell_type": "code",
   "execution_count": 31,
   "id": "d1343d70-1f51-4250-8bdb-5abc5921b9dd",
   "metadata": {},
   "outputs": [
    {
     "data": {
      "text/plain": [
       "np.float64(0.9833333333333333)"
      ]
     },
     "execution_count": 31,
     "metadata": {},
     "output_type": "execute_result"
    }
   ],
   "source": [
    "(y_pred == y_test).sum() / len(y_test)"
   ]
  },
  {
   "cell_type": "code",
   "execution_count": 33,
   "id": "544c6668-5672-4d09-b08a-57c43ed157f7",
   "metadata": {},
   "outputs": [
    {
     "name": "stdout",
     "output_type": "stream",
     "text": [
      "Accuracy: 98.33 %\n"
     ]
    }
   ],
   "source": [
    "acc = (y_pred == y_test).sum() / len(y_test) * 100\n",
    "print(f\"Accuracy: {acc:.2f} %\")"
   ]
  },
  {
   "cell_type": "markdown",
   "id": "4306e099-f4aa-4a89-a7ab-ba62003953ed",
   "metadata": {},
   "source": [
    "## Check data here"
   ]
  },
  {
   "cell_type": "code",
   "execution_count": 52,
   "id": "7bc4f030-005c-4d2f-9cb2-cb0e5e8a85dc",
   "metadata": {},
   "outputs": [
    {
     "name": "stdout",
     "output_type": "stream",
     "text": [
      "Sorry, your loan are rejected\n"
     ]
    }
   ],
   "source": [
    "age = 65\n",
    "loan = 300000 / 1000 #unit(k)\n",
    "monthlypaid = 3500 / 1000 #unit(k)\n",
    "gender = 0  #female\n",
    "\n",
    "x_realData = np.array([[age,loan,monthlypaid,gender]])\n",
    "x_realData = scaler.transform(x_realData)\n",
    "y_realData = (x_realData * w_final).sum(axis = 1) + b_final\n",
    "y_realData = sigmoid(y_realData)\n",
    "\n",
    "if y_realData > 0.5:\n",
    "    print(\"Congratulations, you may get the loan\")\n",
    "else:\n",
    "    print(\"Sorry, your loan are rejected\")"
   ]
  },
  {
   "cell_type": "code",
   "execution_count": null,
   "id": "61070b12-718f-4463-8b45-f81496e45e18",
   "metadata": {},
   "outputs": [],
   "source": []
  }
 ],
 "metadata": {
  "kernelspec": {
   "display_name": "Python 3 (ipykernel)",
   "language": "python",
   "name": "python3"
  },
  "language_info": {
   "codemirror_mode": {
    "name": "ipython",
    "version": 3
   },
   "file_extension": ".py",
   "mimetype": "text/x-python",
   "name": "python",
   "nbconvert_exporter": "python",
   "pygments_lexer": "ipython3",
   "version": "3.9.23"
  }
 },
 "nbformat": 4,
 "nbformat_minor": 5
}
