{
 "cells": [
  {
   "cell_type": "code",
   "execution_count": 1,
   "id": "c6c37795-a21f-49de-a6a7-505f752572c0",
   "metadata": {},
   "outputs": [],
   "source": [
    "from torchvision import datasets\n",
    "from torchvision.transforms import ToTensor,transforms\n",
    "import matplotlib.pyplot as plt\n",
    "import matplotlib\n",
    "from torch.utils.data import DataLoader\n",
    "import torch\n",
    "import random\n",
    "from torch import nn"
   ]
  },
  {
   "cell_type": "code",
   "execution_count": 2,
   "id": "0829c46b-262a-4017-9600-02f2dda7a982",
   "metadata": {},
   "outputs": [
    {
     "name": "stdout",
     "output_type": "stream",
     "text": [
      "Files already downloaded and verified\n",
      "Files already downloaded and verified\n"
     ]
    }
   ],
   "source": [
    "train_data = datasets.CIFAR10(\n",
    "    root = \"image\",\n",
    "    train = True,\n",
    "    download = True,\n",
    "    transform = transforms.Compose([\n",
    "        transforms.ToTensor()\n",
    "    ])\n",
    ")\n",
    "\n",
    "test_data = datasets.CIFAR10(\n",
    "    root = \"image\",\n",
    "    train = False,\n",
    "    download = True,\n",
    "    transform = transforms.Compose([\n",
    "        transforms.ToTensor()\n",
    "    ])\n",
    ")"
   ]
  },
  {
   "cell_type": "code",
   "execution_count": 3,
   "id": "6d1c9e4e-80f8-435c-85e9-3bd637f6943d",
   "metadata": {},
   "outputs": [
    {
     "data": {
      "text/plain": [
       "(Dataset CIFAR10\n",
       "     Number of datapoints: 50000\n",
       "     Root location: image\n",
       "     Split: Train\n",
       "     StandardTransform\n",
       " Transform: Compose(\n",
       "                ToTensor()\n",
       "            ),\n",
       " Dataset CIFAR10\n",
       "     Number of datapoints: 10000\n",
       "     Root location: image\n",
       "     Split: Test\n",
       "     StandardTransform\n",
       " Transform: Compose(\n",
       "                ToTensor()\n",
       "            ))"
      ]
     },
     "execution_count": 3,
     "metadata": {},
     "output_type": "execute_result"
    }
   ],
   "source": [
    "train_data,test_data"
   ]
  },
  {
   "cell_type": "code",
   "execution_count": 4,
   "id": "f075d0e9-eb8b-450a-88ec-1b9cecef4ca5",
   "metadata": {
    "scrolled": true
   },
   "outputs": [
    {
     "data": {
      "text/plain": [
       "(tensor([[[0.2314, 0.1686, 0.1961,  ..., 0.6196, 0.5961, 0.5804],\n",
       "          [0.0627, 0.0000, 0.0706,  ..., 0.4824, 0.4667, 0.4784],\n",
       "          [0.0980, 0.0627, 0.1922,  ..., 0.4627, 0.4706, 0.4275],\n",
       "          ...,\n",
       "          [0.8157, 0.7882, 0.7765,  ..., 0.6275, 0.2196, 0.2078],\n",
       "          [0.7059, 0.6784, 0.7294,  ..., 0.7216, 0.3804, 0.3255],\n",
       "          [0.6941, 0.6588, 0.7020,  ..., 0.8471, 0.5922, 0.4824]],\n",
       " \n",
       "         [[0.2431, 0.1804, 0.1882,  ..., 0.5176, 0.4902, 0.4863],\n",
       "          [0.0784, 0.0000, 0.0314,  ..., 0.3451, 0.3255, 0.3412],\n",
       "          [0.0941, 0.0275, 0.1059,  ..., 0.3294, 0.3294, 0.2863],\n",
       "          ...,\n",
       "          [0.6667, 0.6000, 0.6314,  ..., 0.5216, 0.1216, 0.1333],\n",
       "          [0.5451, 0.4824, 0.5647,  ..., 0.5804, 0.2431, 0.2078],\n",
       "          [0.5647, 0.5059, 0.5569,  ..., 0.7216, 0.4627, 0.3608]],\n",
       " \n",
       "         [[0.2471, 0.1765, 0.1686,  ..., 0.4235, 0.4000, 0.4039],\n",
       "          [0.0784, 0.0000, 0.0000,  ..., 0.2157, 0.1961, 0.2235],\n",
       "          [0.0824, 0.0000, 0.0314,  ..., 0.1961, 0.1961, 0.1647],\n",
       "          ...,\n",
       "          [0.3765, 0.1333, 0.1020,  ..., 0.2745, 0.0275, 0.0784],\n",
       "          [0.3765, 0.1647, 0.1176,  ..., 0.3686, 0.1333, 0.1333],\n",
       "          [0.4549, 0.3686, 0.3412,  ..., 0.5490, 0.3294, 0.2824]]]),\n",
       " 6)"
      ]
     },
     "execution_count": 4,
     "metadata": {},
     "output_type": "execute_result"
    }
   ],
   "source": [
    "train_data[0]"
   ]
  },
  {
   "cell_type": "code",
   "execution_count": 5,
   "id": "2179996e-7c72-4c66-b712-95034f266a79",
   "metadata": {},
   "outputs": [
    {
     "data": {
      "text/plain": [
       "['airplane',\n",
       " 'automobile',\n",
       " 'bird',\n",
       " 'cat',\n",
       " 'deer',\n",
       " 'dog',\n",
       " 'frog',\n",
       " 'horse',\n",
       " 'ship',\n",
       " 'truck']"
      ]
     },
     "execution_count": 5,
     "metadata": {},
     "output_type": "execute_result"
    }
   ],
   "source": [
    "img, label = train_data[0]\n",
    "train_data.classes"
   ]
  },
  {
   "cell_type": "code",
   "execution_count": 6,
   "id": "5e5285cb-8c67-4467-adec-10770a8a364c",
   "metadata": {},
   "outputs": [
    {
     "data": {
      "text/plain": [
       "'frog'"
      ]
     },
     "execution_count": 6,
     "metadata": {},
     "output_type": "execute_result"
    }
   ],
   "source": [
    "class_names = train_data.classes\n",
    "class_names[label]"
   ]
  },
  {
   "cell_type": "code",
   "execution_count": 7,
   "id": "c7747c75-811c-4841-a4f5-a93c0f4332ea",
   "metadata": {},
   "outputs": [
    {
     "data": {
      "text/plain": [
       "torch.Size([3, 32, 32])"
      ]
     },
     "execution_count": 7,
     "metadata": {},
     "output_type": "execute_result"
    }
   ],
   "source": [
    "img.shape"
   ]
  },
  {
   "cell_type": "code",
   "execution_count": 8,
   "id": "82e27bbb-e801-4350-bece-dfecb3542386",
   "metadata": {},
   "outputs": [],
   "source": [
    "#When working with large datasets (like CIFAR-10), always wrap them in a DataLoader\n",
    "\n",
    "BATCH_SIZE = 32\n",
    "\n",
    "train_dataloader = DataLoader(train_data,batch_size = BATCH_SIZE,shuffle = True)\n",
    "test_dataloader = DataLoader(test_data,batch_size = BATCH_SIZE,shuffle = False)"
   ]
  },
  {
   "cell_type": "code",
   "execution_count": 9,
   "id": "6f76363d-78b1-452a-9113-9580219adf32",
   "metadata": {},
   "outputs": [
    {
     "data": {
      "text/plain": [
       "(torch.Size([32, 3, 32, 32]), torch.Size([32]))"
      ]
     },
     "execution_count": 9,
     "metadata": {},
     "output_type": "execute_result"
    }
   ],
   "source": [
    "x_first_batch, y_first_batch = next(iter(train_dataloader))\n",
    "x_first_batch.shape,y_first_batch.shape"
   ]
  },
  {
   "cell_type": "code",
   "execution_count": 10,
   "id": "eed41699-3fee-462e-9eca-cfa3a4836da8",
   "metadata": {
    "scrolled": true
   },
   "outputs": [
    {
     "data": {
      "text/plain": [
       "torch.Size([3, 32, 32])"
      ]
     },
     "execution_count": 10,
     "metadata": {},
     "output_type": "execute_result"
    }
   ],
   "source": [
    "x_first_batch[0].shape"
   ]
  },
  {
   "cell_type": "code",
   "execution_count": 11,
   "id": "e0a17c73-2e11-4aa8-9a9a-68d506664da4",
   "metadata": {},
   "outputs": [
    {
     "data": {
      "text/plain": [
       "torch.Size([32, 32, 3])"
      ]
     },
     "execution_count": 11,
     "metadata": {},
     "output_type": "execute_result"
    }
   ],
   "source": [
    "img = x_first_batch[0]\n",
    "img = img.permute(1,2,0)\n",
    "img.shape"
   ]
  },
  {
   "cell_type": "code",
   "execution_count": 12,
   "id": "5e1112f7-2d4a-4726-affb-0cfdbc42fe9b",
   "metadata": {},
   "outputs": [
    {
     "data": {
      "text/plain": [
       "Text(0.5, 1.0, 'deer')"
      ]
     },
     "execution_count": 12,
     "metadata": {},
     "output_type": "execute_result"
    },
    {
     "data": {
      "image/png": "[encoded data removed]",
      "text/plain": [
       "<Figure size 640x480 with 1 Axes>"
      ]
     },
     "metadata": {},
     "output_type": "display_data"
    }
   ],
   "source": [
    "plt.imshow(img) #reshape to torch.Size([32, 32, 3])\n",
    "plt.title(class_names[y_first_batch[0]])"
   ]
  },
  {
   "cell_type": "markdown",
   "id": "2983665c-26bd-42f9-b51a-c90ca16778dc",
   "metadata": {},
   "source": [
    "## Random Pick"
   ]
  },
  {
   "cell_type": "code",
   "execution_count": 13,
   "id": "23519c94-6330-4d5b-bc9d-9e2e8bb6a746",
   "metadata": {},
   "outputs": [
    {
     "data": {
      "text/plain": [
       "Text(0.5, 1.0, 'truck')"
      ]
     },
     "execution_count": 13,
     "metadata": {},
     "output_type": "execute_result"
    },
    {
     "data": {
      "image/png": "[encoded data removed]",
      "text/plain": [
       "<Figure size 640x480 with 1 Axes>"
      ]
     },
     "metadata": {},
     "output_type": "display_data"
    }
   ],
   "source": [
    "random_img = random.randint(0, len(x_first_batch))\n",
    "rand_img, rand_label = x_first_batch[random_img], y_first_batch[random_img]\n",
    "# rand_img = rand_img / 2 + 0.5 \n",
    "\n",
    "plt.imshow(rand_img.permute(1,2,0))\n",
    "plt.title(class_names[y_first_batch[rand_label]])"
   ]
  },
  {
   "cell_type": "markdown",
   "id": "c4fe7b14-1f91-4fa9-846b-6488332b6a97",
   "metadata": {},
   "source": [
    "## Flatten"
   ]
  },
  {
   "cell_type": "code",
   "execution_count": 14,
   "id": "f6c8aa4d-3d8f-400a-bf37-1572f1066dce",
   "metadata": {},
   "outputs": [],
   "source": [
    "#reference: https://docs.pytorch.org/docs/stable/generated/torch.nn.Flatten.html#torch.nn.Flatten"
   ]
  },
  {
   "cell_type": "code",
   "execution_count": 15,
   "id": "f3527329-1dff-4846-a106-7a1a95ed0de2",
   "metadata": {},
   "outputs": [
    {
     "data": {
      "text/plain": [
       "torch.Size([32, 3, 32, 32])"
      ]
     },
     "execution_count": 15,
     "metadata": {},
     "output_type": "execute_result"
    }
   ],
   "source": [
    "x_first_batch.shape"
   ]
  },
  {
   "cell_type": "code",
   "execution_count": 16,
   "id": "0419ba9d-4586-4a7e-91b2-ca066a0007e6",
   "metadata": {},
   "outputs": [
    {
     "data": {
      "text/plain": [
       "torch.Size([3, 32, 32])"
      ]
     },
     "execution_count": 16,
     "metadata": {},
     "output_type": "execute_result"
    }
   ],
   "source": [
    "x_first_batch[0].shape"
   ]
  },
  {
   "cell_type": "code",
   "execution_count": 17,
   "id": "2db0f121-701f-4554-9593-ae942a12e127",
   "metadata": {},
   "outputs": [
    {
     "data": {
      "text/plain": [
       "torch.Size([3072])"
      ]
     },
     "execution_count": 17,
     "metadata": {},
     "output_type": "execute_result"
    }
   ],
   "source": [
    "f = nn.Flatten(start_dim=0, end_dim=-1) # Default is nn.Flatten(start_dim=1, end_dim=-1) \n",
    "f(x_first_batch[0]).shape"
   ]
  },
  {
   "cell_type": "code",
   "execution_count": 18,
   "id": "45996a36-11f9-473c-a390-ed9da5cfd785",
   "metadata": {},
   "outputs": [],
   "source": [
    "# link to check kernel size, stride, padding\n",
    "# https://poloclub.github.io/cnn-explainer/"
   ]
  },
  {
   "cell_type": "markdown",
   "id": "dad54f52-0478-46bd-833d-7598336a7837",
   "metadata": {},
   "source": [
    "## Model"
   ]
  },
  {
   "cell_type": "code",
   "execution_count": 19,
   "id": "fea9031f-9f5c-40fa-9d4c-971739719d6a",
   "metadata": {},
   "outputs": [
    {
     "data": {
      "text/plain": [
       "torch.Size([16, 32, 32])"
      ]
     },
     "execution_count": 19,
     "metadata": {},
     "output_type": "execute_result"
    }
   ],
   "source": [
    "# reference: https://docs.pytorch.org/docs/stable/generated/torch.nn.Conv2d.html#torch.nn.Conv2d\n",
    "conv_layer = nn.Conv2d(in_channels = 3 , out_channels = 16, kernel_size = (3,3) , stride=1, padding=1) \n",
    "conv_layer(x_first_batch[0]).shape"
   ]
  },
  {
   "cell_type": "code",
   "execution_count": 20,
   "id": "98297ada-15f9-464b-969e-28649bfce77b",
   "metadata": {},
   "outputs": [
    {
     "data": {
      "text/plain": [
       "torch.Size([16, 16, 16])"
      ]
     },
     "execution_count": 20,
     "metadata": {},
     "output_type": "execute_result"
    }
   ],
   "source": [
    "# reference: https://docs.pytorch.org/docs/stable/generated/torch.nn.MaxPool2d.html#torch.nn.MaxPool2d\n",
    "maxpool = nn.MaxPool2d(kernel_size = (2,2) , stride=2, padding=0)\n",
    "conv_output = conv_layer(x_first_batch[0])\n",
    "maxpool(conv_output).shape"
   ]
  },
  {
   "cell_type": "code",
   "execution_count": 21,
   "id": "453006df-f042-49d5-8cc8-6d47c621f21e",
   "metadata": {},
   "outputs": [],
   "source": [
    "# class ImageClassificationModel(nn.Module):\n",
    "#     def __init__(self,input_shape,output_shape):\n",
    "#         super().__init__()\n",
    "#         self.layer_stack = nn.Sequential(\n",
    "#             nn.Flatten(start_dim = 1, end_dim = -1),  # x_first_batch.shape = torch.Size([32, 3, 32, 32]) should pick(3,32,32). Thus, change start_dim to 1\n",
    "#             nn.Linear(in_features = input_shape, out_features = 16),\n",
    "            # nn.ReLU(),\n",
    "            # nn.Linear(in_features = 16, out_features = 16),\n",
    "            # nn.ReLU(),\n",
    "            # nn.Linear(in_features = 16, out_features = output_shape)\n",
    "#         )\n",
    "\n",
    "#     def forward(self, x):\n",
    "#         return self.layer_stack(x)"
   ]
  },
  {
   "cell_type": "code",
   "execution_count": 22,
   "id": "e02074f8-364f-4be3-8d42-129193abb8a2",
   "metadata": {},
   "outputs": [],
   "source": [
    "# Simplified VGG\n",
    "class ImageClassificationModel(nn.Module):\n",
    "    def __init__(self,input_shape,output_shape):\n",
    "        super().__init__()\n",
    "        self.conv_block_1 = nn.Sequential(\n",
    "            nn.Conv2d(in_channels = input_shape, \n",
    "                      out_channels = 16, \n",
    "                      kernel_size = (3,3), \n",
    "                      stride=1, \n",
    "                      padding=1),\n",
    "            nn.ReLU(),\n",
    "            nn.Conv2d(in_channels = 16, \n",
    "                      out_channels = 16, \n",
    "                      kernel_size = (3,3), \n",
    "                      stride=1, \n",
    "                      padding=1),\n",
    "            nn.ReLU(),\n",
    "            nn.MaxPool2d(kernel_size = (2,2), \n",
    "                      stride=2, \n",
    "                      padding=0)\n",
    "            \n",
    "        )\n",
    "\n",
    "        self.conv_block_2 = nn.Sequential(\n",
    "            nn.Conv2d(in_channels = 16, \n",
    "                      out_channels = 32, \n",
    "                      kernel_size = (3,3), \n",
    "                      stride=1, \n",
    "                      padding=1),\n",
    "            nn.ReLU(),\n",
    "            nn.Conv2d(in_channels = 32, \n",
    "                      out_channels = 32, \n",
    "                      kernel_size = (3,3), \n",
    "                      stride=1, \n",
    "                      padding=1),\n",
    "            nn.ReLU(),\n",
    "            nn.MaxPool2d(kernel_size = (2,2), \n",
    "                      stride=2, \n",
    "                      padding=0)\n",
    "        )\n",
    "\n",
    "        self.classifier = nn.Sequential(\n",
    "            nn.Flatten(start_dim=1,end_dim=-1),\n",
    "            nn.Linear(in_features = 32*8*8, out_features = output_shape),\n",
    "        )\n",
    "\n",
    "    # def forward(self, x):\n",
    "    #     return self.conv_block_2(self.conv_block_1(x))\n",
    "    \n",
    "    def forward(self, x):\n",
    "        x = self.conv_block_1(x)\n",
    "        x = self.conv_block_2(x)\n",
    "        x = self.classifier(x)\n",
    "        return x"
   ]
  },
  {
   "cell_type": "code",
   "execution_count": 23,
   "id": "c6cc54ce-e614-4d39-803c-cf3969fd3348",
   "metadata": {
    "scrolled": true
   },
   "outputs": [],
   "source": [
    "torch.manual_seed(87)\n",
    "model = ImageClassificationModel(3,10)\n",
    "# model(x_first_batch[0]).shape"
   ]
  },
  {
   "cell_type": "code",
   "execution_count": 24,
   "id": "b8d483da-5fa8-4a79-bc18-402da9001089",
   "metadata": {},
   "outputs": [],
   "source": [
    "# softmax\n",
    "# reference: https://docs.pytorch.org/docs/stable/generated/torch.nn.Softmax.html#torch.nn.Softmax\n",
    "# softmax has included in loss function CrossEntropyLoss. So, no need to include"
   ]
  },
  {
   "cell_type": "code",
   "execution_count": 25,
   "id": "b08e3290-8bb9-4a6a-8362-ea5c368a3132",
   "metadata": {},
   "outputs": [
    {
     "data": {
      "text/plain": [
       "ImageClassificationModel(\n",
       "  (conv_block_1): Sequential(\n",
       "    (0): Conv2d(3, 16, kernel_size=(3, 3), stride=(1, 1), padding=(1, 1))\n",
       "    (1): ReLU()\n",
       "    (2): Conv2d(16, 16, kernel_size=(3, 3), stride=(1, 1), padding=(1, 1))\n",
       "    (3): ReLU()\n",
       "    (4): MaxPool2d(kernel_size=(2, 2), stride=2, padding=0, dilation=1, ceil_mode=False)\n",
       "  )\n",
       "  (conv_block_2): Sequential(\n",
       "    (0): Conv2d(16, 32, kernel_size=(3, 3), stride=(1, 1), padding=(1, 1))\n",
       "    (1): ReLU()\n",
       "    (2): Conv2d(32, 32, kernel_size=(3, 3), stride=(1, 1), padding=(1, 1))\n",
       "    (3): ReLU()\n",
       "    (4): MaxPool2d(kernel_size=(2, 2), stride=2, padding=0, dilation=1, ceil_mode=False)\n",
       "  )\n",
       "  (classifier): Sequential(\n",
       "    (0): Flatten(start_dim=1, end_dim=-1)\n",
       "    (1): Linear(in_features=2048, out_features=10, bias=True)\n",
       "  )\n",
       ")"
      ]
     },
     "execution_count": 25,
     "metadata": {},
     "output_type": "execute_result"
    }
   ],
   "source": [
    "device = \"cuda\" if torch.cuda.is_available() else \"cpu\"\n",
    "model.to(device)"
   ]
  },
  {
   "cell_type": "code",
   "execution_count": 26,
   "id": "0e36cdd5-3a34-4fe6-af00-bc58d83c8369",
   "metadata": {},
   "outputs": [],
   "source": [
    "cost_fn = nn.CrossEntropyLoss()\n",
    "optimizer = torch.optim.SGD(params = model.parameters(), lr = 0.01, momentum=0.9, weight_decay=1e-4) "
   ]
  },
  {
   "cell_type": "code",
   "execution_count": 27,
   "id": "0389d911-27a3-4309-a5c7-1331e1b0e916",
   "metadata": {},
   "outputs": [],
   "source": [
    "def accuracy_fn(y_pred, y_true):\n",
    "    correct_num = (y_pred == y_true).sum()\n",
    "    acc = correct_num / len(y_true) * 100\n",
    "    return acc"
   ]
  },
  {
   "cell_type": "code",
   "execution_count": 28,
   "id": "3de62c49-e7b7-4c77-a1f1-ef89435b119b",
   "metadata": {},
   "outputs": [],
   "source": [
    "def train_step(dataloader, model, cost_fn, optimizer, accuracy_fn, device):\n",
    "    train_cost = 0\n",
    "    train_acc = 0\n",
    "    for batch, (x, y) in enumerate(dataloader):\n",
    "\n",
    "        x = x.to(device)\n",
    "        y = y.to(device)\n",
    "        \n",
    "        model.train()\n",
    "        y_pred =  model(x)\n",
    "        cost = cost_fn(y_pred,y)\n",
    "        train_acc += accuracy_fn(y_pred.argmax(dim=1), y)\n",
    "\n",
    "        train_cost += cost\n",
    "\n",
    "        optimizer.zero_grad()\n",
    "        cost.backward()\n",
    "        optimizer.step()\n",
    "\n",
    "    train_cost /= len(train_dataloader)\n",
    "    train_acc /= len(train_dataloader)\n",
    "\n",
    "    print(f\"\\nTrain Cost: {train_cost:.4f}, {train_acc:.2f}\")\n",
    "\n",
    "def test_step(dataloader, model, cost_fn, accuracy_fn, device):\n",
    "    test_cost = 0\n",
    "    test_acc = 0\n",
    "    model.eval()\n",
    "    with torch.inference_mode():\n",
    "        for x, y in dataloader:\n",
    "            x = x.to(device)\n",
    "            y = y.to(device)\n",
    "            test_pred =  model(x)\n",
    "            \n",
    "            test_cost += cost_fn(test_pred,y)\n",
    "            test_acc += accuracy_fn(test_pred.argmax(dim=1), y)\n",
    "\n",
    "        test_cost /= len(test_dataloader)\n",
    "        test_acc /= len(test_dataloader)\n",
    "\n",
    "    print(f\"Test Cost: {test_cost:.4f}, {test_acc:.2f} \\n\")"
   ]
  },
  {
   "cell_type": "code",
   "execution_count": 29,
   "id": "80cabc05-284d-4aa4-af44-2fc89a7421ed",
   "metadata": {},
   "outputs": [
    {
     "name": "stdout",
     "output_type": "stream",
     "text": [
      "Epoch: 0 \n",
      " -----\n",
      "\n",
      "Train Cost: 1.7636, 35.42\n",
      "Test Cost: 1.5099, 45.74 \n",
      "\n",
      "Epoch: 1 \n",
      " -----\n",
      "\n",
      "Train Cost: 1.2851, 54.07\n",
      "Test Cost: 1.1782, 58.42 \n",
      "\n",
      "Epoch: 2 \n",
      " -----\n",
      "\n",
      "Train Cost: 1.0578, 62.91\n",
      "Test Cost: 1.0872, 61.75 \n",
      "\n",
      "Epoch: 3 \n",
      " -----\n",
      "\n",
      "Train Cost: 0.9493, 66.82\n",
      "Test Cost: 0.9439, 67.02 \n",
      "\n",
      "Epoch: 4 \n",
      " -----\n",
      "\n",
      "Train Cost: 0.8837, 69.32\n",
      "Test Cost: 0.9153, 68.05 \n",
      "\n",
      "Epoch: 5 \n",
      " -----\n",
      "\n",
      "Train Cost: 0.8321, 70.87\n",
      "Test Cost: 0.9564, 66.73 \n",
      "\n",
      "Epoch: 6 \n",
      " -----\n",
      "\n",
      "Train Cost: 0.7944, 72.40\n",
      "Test Cost: 0.9274, 68.81 \n",
      "\n",
      "Epoch: 7 \n",
      " -----\n",
      "\n",
      "Train Cost: 0.7701, 73.09\n",
      "Test Cost: 0.9251, 68.60 \n",
      "\n",
      "Epoch: 8 \n",
      " -----\n",
      "\n",
      "Train Cost: 0.7517, 73.75\n",
      "Test Cost: 0.9626, 67.29 \n",
      "\n",
      "Epoch: 9 \n",
      " -----\n",
      "\n",
      "Train Cost: 0.7350, 74.39\n",
      "Test Cost: 0.9869, 66.85 \n",
      "\n"
     ]
    }
   ],
   "source": [
    "epochs = 10\n",
    "for epoch in range(epochs):\n",
    "    print(f\"Epoch: {epoch} \\n -----\")\n",
    "\n",
    "    train_step(train_dataloader, model, cost_fn, optimizer, accuracy_fn, device)\n",
    "\n",
    "    test_step(test_dataloader, model, cost_fn, accuracy_fn, device)  "
   ]
  },
  {
   "cell_type": "code",
   "execution_count": null,
   "id": "adc58e63-5f4c-404d-8faf-66b8cfd71b40",
   "metadata": {},
   "outputs": [],
   "source": []
  }
 ],
 "metadata": {
  "kernelspec": {
   "display_name": "Python 3 (ipykernel)",
   "language": "python",
   "name": "python3"
  },
  "language_info": {
   "codemirror_mode": {
    "name": "ipython",
    "version": 3
   },
   "file_extension": ".py",
   "mimetype": "text/x-python",
   "name": "python",
   "nbconvert_exporter": "python",
   "pygments_lexer": "ipython3",
   "version": "3.10.18"
  }
 },
 "nbformat": 4,
 "nbformat_minor": 5
}
