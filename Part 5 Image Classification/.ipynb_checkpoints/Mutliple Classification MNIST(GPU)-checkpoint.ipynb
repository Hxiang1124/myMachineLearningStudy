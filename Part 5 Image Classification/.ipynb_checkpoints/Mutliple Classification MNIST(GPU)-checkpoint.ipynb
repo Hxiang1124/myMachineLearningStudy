{
 "cells": [
  {
   "cell_type": "code",
   "execution_count": 1,
   "id": "6213ef7b-510a-4939-a129-57bf53231c34",
   "metadata": {},
   "outputs": [],
   "source": [
    "from torchvision import datasets\n",
    "from torchvision.transforms import ToTensor,transforms\n",
    "import matplotlib.pyplot as plt\n",
    "import matplotlib\n",
    "from torch.utils.data import DataLoader\n",
    "import torch\n",
    "import random\n",
    "from torch import nn"
   ]
  },
  {
   "cell_type": "code",
   "execution_count": 2,
   "id": "0829c46b-262a-4017-9600-02f2dda7a982",
   "metadata": {
    "scrolled": true
   },
   "outputs": [],
   "source": [
    "# torch MNIST dataset got issue. Download manually ....\n",
    "\n",
    "# train_data = datasets.MNIST(\n",
    "#     root = \"mnistdataset/\",\n",
    "#     train = True,\n",
    "#     download = True,\n",
    "#     # transform = transforms.ToTensor()\n",
    "# )\n",
    "\n",
    "# test_data = datasets.MNIST(\n",
    "#     root = \"mnistdataset/\",\n",
    "#     train = False,\n",
    "#     download = True,\n",
    "#     # transform = transforms.ToTensor()\n",
    "# )"
   ]
  },
  {
   "cell_type": "code",
   "execution_count": 3,
   "id": "3f44f4bd-6e63-4943-b186-844d6ec8b2e0",
   "metadata": {},
   "outputs": [],
   "source": [
    "train_data = datasets.ImageFolder(\n",
    "    root = \"archive/MNIST_dataset/train\",\n",
    "    transform = transforms.Compose([\n",
    "        transforms.ToTensor(),\n",
    "        transforms.Grayscale(num_output_channels=1)\n",
    "    ])\n",
    ")\n",
    "\n",
    "test_data = datasets.ImageFolder(\n",
    "    root = \"archive/MNIST_dataset/test\",\n",
    "    transform = transforms.Compose([\n",
    "        transforms.ToTensor(),\n",
    "        transforms.Grayscale(num_output_channels=1)\n",
    "    ])\n",
    ")"
   ]
  },
  {
   "cell_type": "code",
   "execution_count": 4,
   "id": "6d1c9e4e-80f8-435c-85e9-3bd637f6943d",
   "metadata": {},
   "outputs": [
    {
     "data": {
      "text/plain": [
       "(Dataset ImageFolder\n",
       "     Number of datapoints: 56000\n",
       "     Root location: archive/MNIST_dataset/train\n",
       "     StandardTransform\n",
       " Transform: Compose(\n",
       "                ToTensor()\n",
       "                Grayscale(num_output_channels=1)\n",
       "            ),\n",
       " Dataset ImageFolder\n",
       "     Number of datapoints: 14000\n",
       "     Root location: archive/MNIST_dataset/test\n",
       "     StandardTransform\n",
       " Transform: Compose(\n",
       "                ToTensor()\n",
       "                Grayscale(num_output_channels=1)\n",
       "            ))"
      ]
     },
     "execution_count": 4,
     "metadata": {},
     "output_type": "execute_result"
    }
   ],
   "source": [
    "train_data,test_data"
   ]
  },
  {
   "cell_type": "code",
   "execution_count": 5,
   "id": "f075d0e9-eb8b-450a-88ec-1b9cecef4ca5",
   "metadata": {
    "scrolled": true
   },
   "outputs": [
    {
     "data": {
      "text/plain": [
       "(tensor([[[0.0000, 0.0000, 0.0000, 0.0000, 0.0000, 0.0000, 0.0000, 0.0000,\n",
       "           0.0000, 0.0000, 0.0000, 0.0000, 0.0000, 0.0000, 0.0000, 0.0000,\n",
       "           0.0000, 0.0000, 0.0000, 0.0000, 0.0000, 0.0000, 0.0000, 0.0000,\n",
       "           0.0000, 0.0000, 0.0000, 0.0000],\n",
       "          [0.0000, 0.0000, 0.0000, 0.0000, 0.0000, 0.0000, 0.0000, 0.0000,\n",
       "           0.0000, 0.0000, 0.0000, 0.0000, 0.0000, 0.0000, 0.0000, 0.0000,\n",
       "           0.0000, 0.0000, 0.0000, 0.0000, 0.0000, 0.0000, 0.0000, 0.0000,\n",
       "           0.0000, 0.0000, 0.0000, 0.0000],\n",
       "          [0.0000, 0.0000, 0.0000, 0.0000, 0.0000, 0.0000, 0.0000, 0.0000,\n",
       "           0.0000, 0.0000, 0.0000, 0.0000, 0.0000, 0.0000, 0.0000, 0.0000,\n",
       "           0.0000, 0.0000, 0.0000, 0.0000, 0.0000, 0.0000, 0.0000, 0.0000,\n",
       "           0.0000, 0.0000, 0.0000, 0.0000],\n",
       "          [0.0000, 0.0000, 0.0000, 0.0000, 0.0000, 0.0000, 0.0000, 0.0000,\n",
       "           0.0000, 0.0000, 0.0000, 0.0000, 0.0000, 0.0000, 0.0000, 0.0000,\n",
       "           0.0000, 0.0000, 0.0000, 0.0000, 0.0000, 0.0000, 0.0000, 0.0000,\n",
       "           0.0000, 0.0000, 0.0000, 0.0000],\n",
       "          [0.0000, 0.0000, 0.0000, 0.0000, 0.0000, 0.0000, 0.0000, 0.0000,\n",
       "           0.0000, 0.0000, 0.0000, 0.0000, 0.0000, 0.0000, 0.0000, 0.0000,\n",
       "           0.0000, 0.0000, 0.0000, 0.0000, 0.0000, 0.0000, 0.0000, 0.0000,\n",
       "           0.0000, 0.0000, 0.0000, 0.0000],\n",
       "          [0.0000, 0.0000, 0.0000, 0.0000, 0.0000, 0.0000, 0.0000, 0.0000,\n",
       "           0.0000, 0.0000, 0.0039, 0.0274, 0.0274, 0.0274, 0.0274, 0.0274,\n",
       "           0.0274, 0.0196, 0.0000, 0.0000, 0.0000, 0.0000, 0.0000, 0.0000,\n",
       "           0.0000, 0.0000, 0.0000, 0.0000],\n",
       "          [0.0000, 0.0000, 0.0000, 0.0000, 0.0000, 0.0000, 0.0000, 0.0431,\n",
       "           0.5372, 0.5372, 0.6078, 0.9960, 0.9960, 0.9960, 0.9960, 0.9960,\n",
       "           0.9960, 0.8509, 0.3725, 0.0314, 0.0000, 0.0000, 0.0000, 0.0000,\n",
       "           0.0000, 0.0000, 0.0000, 0.0000],\n",
       "          [0.0000, 0.0000, 0.0000, 0.0000, 0.0000, 0.0000, 0.0000, 0.3490,\n",
       "           0.9960, 0.9960, 0.9960, 0.9960, 0.9960, 0.9960, 0.9960, 0.9960,\n",
       "           0.9960, 0.9960, 0.9960, 0.8391, 0.3725, 0.0745, 0.0078, 0.0000,\n",
       "           0.0000, 0.0000, 0.0000, 0.0000],\n",
       "          [0.0000, 0.0000, 0.0000, 0.0000, 0.0000, 0.0000, 0.0784, 0.8195,\n",
       "           0.9960, 0.9960, 0.8627, 0.4117, 0.4117, 0.4117, 0.4117, 0.4117,\n",
       "           0.7960, 0.8979, 0.9332, 0.9960, 0.9960, 0.9960, 0.4000, 0.0078,\n",
       "           0.0000, 0.0000, 0.0000, 0.0000],\n",
       "          [0.0000, 0.0000, 0.0000, 0.0000, 0.0000, 0.0000, 0.5372, 0.9960,\n",
       "           0.9960, 0.9215, 0.1412, 0.0000, 0.0000, 0.0000, 0.0000, 0.0000,\n",
       "           0.0000, 0.0000, 0.1333, 0.5646, 0.9215, 0.9960, 0.9960, 0.6274,\n",
       "           0.0157, 0.0000, 0.0000, 0.0000],\n",
       "          [0.0000, 0.0000, 0.0000, 0.0000, 0.0000, 0.0039, 0.6078, 0.9960,\n",
       "           0.9960, 0.6352, 0.0000, 0.0000, 0.0000, 0.0000, 0.0000, 0.0000,\n",
       "           0.0000, 0.0000, 0.0000, 0.0000, 0.1412, 0.8038, 0.9881, 0.9960,\n",
       "           0.0196, 0.0000, 0.0000, 0.0000],\n",
       "          [0.0000, 0.0000, 0.0000, 0.0000, 0.0000, 0.1098, 0.9960, 0.9960,\n",
       "           0.9960, 0.7921, 0.0000, 0.0000, 0.0000, 0.0000, 0.0000, 0.0000,\n",
       "           0.0000, 0.0000, 0.0000, 0.0000, 0.0000, 0.0000, 0.8470, 0.9960,\n",
       "           0.4274, 0.0000, 0.0000, 0.0000],\n",
       "          [0.0000, 0.0000, 0.0000, 0.0000, 0.0000, 0.8470, 0.9960, 0.9960,\n",
       "           0.9293, 0.1216, 0.0000, 0.0000, 0.0000, 0.0000, 0.0000, 0.0000,\n",
       "           0.0000, 0.0000, 0.0000, 0.0000, 0.0000, 0.0000, 0.4392, 0.9960,\n",
       "           0.9960, 0.0000, 0.0000, 0.0000],\n",
       "          [0.0000, 0.0000, 0.0000, 0.0000, 0.0000, 0.9999, 0.9960, 0.9960,\n",
       "           0.8979, 0.0000, 0.0000, 0.0000, 0.0000, 0.0000, 0.0000, 0.0000,\n",
       "           0.0000, 0.0000, 0.0000, 0.0000, 0.0000, 0.0000, 0.7882, 0.9960,\n",
       "           0.8901, 0.0000, 0.0000, 0.0000],\n",
       "          [0.0000, 0.0000, 0.0000, 0.0000, 0.0000, 0.9999, 0.9960, 0.9960,\n",
       "           0.8979, 0.0000, 0.0000, 0.0000, 0.0000, 0.0000, 0.0000, 0.0000,\n",
       "           0.0000, 0.0000, 0.0000, 0.0000, 0.0000, 0.4274, 0.9803, 0.9960,\n",
       "           0.3882, 0.0000, 0.0000, 0.0000],\n",
       "          [0.0000, 0.0000, 0.0000, 0.0000, 0.0000, 0.9999, 0.9960, 0.9960,\n",
       "           0.8979, 0.0000, 0.0000, 0.0000, 0.0000, 0.0000, 0.0000, 0.0000,\n",
       "           0.0000, 0.0000, 0.0000, 0.0000, 0.1059, 0.9293, 0.9960, 0.9960,\n",
       "           0.0196, 0.0000, 0.0000, 0.0000],\n",
       "          [0.0000, 0.0000, 0.0000, 0.0000, 0.0000, 0.7646, 0.9960, 0.9960,\n",
       "           0.8979, 0.0000, 0.0000, 0.0000, 0.0000, 0.0000, 0.0000, 0.0000,\n",
       "           0.0000, 0.0000, 0.0000, 0.0000, 0.5372, 0.9960, 0.9960, 0.8587,\n",
       "           0.0157, 0.0000, 0.0000, 0.0000],\n",
       "          [0.0000, 0.0000, 0.0000, 0.0000, 0.0000, 0.6078, 0.9960, 0.9960,\n",
       "           0.9764, 0.3137, 0.0000, 0.0000, 0.0000, 0.0000, 0.0000, 0.0000,\n",
       "           0.0000, 0.0000, 0.0000, 0.1176, 0.9176, 0.9960, 0.9960, 0.3764,\n",
       "           0.0000, 0.0000, 0.0000, 0.0000],\n",
       "          [0.0000, 0.0000, 0.0000, 0.0000, 0.0000, 0.3451, 0.9960, 0.9960,\n",
       "           0.9960, 0.3882, 0.0000, 0.0000, 0.0000, 0.0000, 0.0000, 0.0000,\n",
       "           0.0000, 0.0000, 0.1176, 0.5843, 0.9960, 0.9960, 0.8470, 0.0314,\n",
       "           0.0000, 0.0000, 0.0000, 0.0000],\n",
       "          [0.0000, 0.0000, 0.0000, 0.0000, 0.0000, 0.0039, 0.1843, 0.9960,\n",
       "           0.9960, 0.8038, 0.0000, 0.0000, 0.0000, 0.0000, 0.0000, 0.0000,\n",
       "           0.0000, 0.2980, 0.8234, 0.9960, 0.9960, 0.8431, 0.1137, 0.0000,\n",
       "           0.0000, 0.0000, 0.0000, 0.0000],\n",
       "          [0.0000, 0.0000, 0.0000, 0.0000, 0.0000, 0.0000, 0.0078, 0.4235,\n",
       "           0.9960, 0.9215, 0.3333, 0.0000, 0.0000, 0.0000, 0.0000, 0.1059,\n",
       "           0.5372, 0.9764, 0.9960, 0.9960, 0.8431, 0.1176, 0.0000, 0.0000,\n",
       "           0.0000, 0.0000, 0.0000, 0.0000],\n",
       "          [0.0000, 0.0000, 0.0000, 0.0000, 0.0000, 0.0000, 0.0000, 0.0431,\n",
       "           0.8274, 0.9960, 0.9842, 0.5764, 0.4117, 0.5254, 0.9058, 0.9293,\n",
       "           0.9960, 0.9960, 0.9960, 0.8431, 0.1176, 0.0000, 0.0000, 0.0000,\n",
       "           0.0000, 0.0000, 0.0000, 0.0000],\n",
       "          [0.0000, 0.0000, 0.0000, 0.0000, 0.0000, 0.0000, 0.0000, 0.0000,\n",
       "           0.3294, 0.6117, 0.9960, 0.9960, 0.9960, 0.9960, 0.9960, 0.9960,\n",
       "           0.9960, 0.9960, 0.4627, 0.0471, 0.0000, 0.0000, 0.0000, 0.0000,\n",
       "           0.0000, 0.0000, 0.0000, 0.0000],\n",
       "          [0.0000, 0.0000, 0.0000, 0.0000, 0.0000, 0.0000, 0.0000, 0.0000,\n",
       "           0.0000, 0.0667, 0.5333, 0.8391, 0.9960, 0.9960, 0.8823, 0.5333,\n",
       "           0.3921, 0.0471, 0.0078, 0.0000, 0.0000, 0.0000, 0.0000, 0.0000,\n",
       "           0.0000, 0.0000, 0.0000, 0.0000],\n",
       "          [0.0000, 0.0000, 0.0000, 0.0000, 0.0000, 0.0000, 0.0000, 0.0000,\n",
       "           0.0000, 0.0000, 0.0000, 0.0157, 0.0196, 0.0196, 0.0157, 0.0000,\n",
       "           0.0000, 0.0000, 0.0000, 0.0000, 0.0000, 0.0000, 0.0000, 0.0000,\n",
       "           0.0000, 0.0000, 0.0000, 0.0000],\n",
       "          [0.0000, 0.0000, 0.0000, 0.0000, 0.0000, 0.0000, 0.0000, 0.0000,\n",
       "           0.0000, 0.0000, 0.0000, 0.0000, 0.0000, 0.0000, 0.0000, 0.0000,\n",
       "           0.0000, 0.0000, 0.0000, 0.0000, 0.0000, 0.0000, 0.0000, 0.0000,\n",
       "           0.0000, 0.0000, 0.0000, 0.0000],\n",
       "          [0.0000, 0.0000, 0.0000, 0.0000, 0.0000, 0.0000, 0.0000, 0.0000,\n",
       "           0.0000, 0.0000, 0.0000, 0.0000, 0.0000, 0.0000, 0.0000, 0.0000,\n",
       "           0.0000, 0.0000, 0.0000, 0.0000, 0.0000, 0.0000, 0.0000, 0.0000,\n",
       "           0.0000, 0.0000, 0.0000, 0.0000],\n",
       "          [0.0000, 0.0000, 0.0000, 0.0000, 0.0000, 0.0000, 0.0000, 0.0000,\n",
       "           0.0000, 0.0000, 0.0000, 0.0000, 0.0000, 0.0000, 0.0000, 0.0000,\n",
       "           0.0000, 0.0000, 0.0000, 0.0000, 0.0000, 0.0000, 0.0000, 0.0000,\n",
       "           0.0000, 0.0000, 0.0000, 0.0000]]]),\n",
       " 0)"
      ]
     },
     "execution_count": 5,
     "metadata": {},
     "output_type": "execute_result"
    }
   ],
   "source": [
    "train_data[0]"
   ]
  },
  {
   "cell_type": "code",
   "execution_count": 6,
   "id": "2179996e-7c72-4c66-b712-95034f266a79",
   "metadata": {},
   "outputs": [
    {
     "data": {
      "text/plain": [
       "['0', '1', '2', '3', '4', '5', '6', '7', '8', '9']"
      ]
     },
     "execution_count": 6,
     "metadata": {},
     "output_type": "execute_result"
    }
   ],
   "source": [
    "img, label = train_data[0]\n",
    "train_data.classes"
   ]
  },
  {
   "cell_type": "code",
   "execution_count": 7,
   "id": "5e5285cb-8c67-4467-adec-10770a8a364c",
   "metadata": {},
   "outputs": [
    {
     "data": {
      "text/plain": [
       "'0'"
      ]
     },
     "execution_count": 7,
     "metadata": {},
     "output_type": "execute_result"
    }
   ],
   "source": [
    "class_names = train_data.classes\n",
    "class_names[label]"
   ]
  },
  {
   "cell_type": "code",
   "execution_count": 8,
   "id": "c7747c75-811c-4841-a4f5-a93c0f4332ea",
   "metadata": {},
   "outputs": [
    {
     "data": {
      "text/plain": [
       "torch.Size([1, 28, 28])"
      ]
     },
     "execution_count": 8,
     "metadata": {},
     "output_type": "execute_result"
    }
   ],
   "source": [
    "img.shape"
   ]
  },
  {
   "cell_type": "code",
   "execution_count": 9,
   "id": "82e27bbb-e801-4350-bece-dfecb3542386",
   "metadata": {},
   "outputs": [],
   "source": [
    "BATCH_SIZE = 32\n",
    "\n",
    "train_dataloader = DataLoader(train_data,batch_size = BATCH_SIZE,shuffle = True)\n",
    "test_dataloader = DataLoader(test_data,batch_size = BATCH_SIZE,shuffle = False)"
   ]
  },
  {
   "cell_type": "code",
   "execution_count": 10,
   "id": "6f76363d-78b1-452a-9113-9580219adf32",
   "metadata": {},
   "outputs": [
    {
     "data": {
      "text/plain": [
       "(torch.Size([32, 1, 28, 28]), torch.Size([32]))"
      ]
     },
     "execution_count": 10,
     "metadata": {},
     "output_type": "execute_result"
    }
   ],
   "source": [
    "x_first_batch, y_first_batch = next(iter(train_dataloader))\n",
    "x_first_batch.shape,y_first_batch.shape"
   ]
  },
  {
   "cell_type": "code",
   "execution_count": 11,
   "id": "eed41699-3fee-462e-9eca-cfa3a4836da8",
   "metadata": {
    "scrolled": true
   },
   "outputs": [
    {
     "data": {
      "text/plain": [
       "torch.Size([1, 28, 28])"
      ]
     },
     "execution_count": 11,
     "metadata": {},
     "output_type": "execute_result"
    }
   ],
   "source": [
    "x_first_batch[0].shape"
   ]
  },
  {
   "cell_type": "code",
   "execution_count": 12,
   "id": "e0a17c73-2e11-4aa8-9a9a-68d506664da4",
   "metadata": {},
   "outputs": [
    {
     "data": {
      "text/plain": [
       "torch.Size([28, 28, 1])"
      ]
     },
     "execution_count": 12,
     "metadata": {},
     "output_type": "execute_result"
    }
   ],
   "source": [
    "# img = x_first_batch[0] / 2 + 0.5   # from [-1,1] back to [0,1]\n",
    "img = img.permute(1,2,0)\n",
    "img.shape"
   ]
  },
  {
   "cell_type": "code",
   "execution_count": 13,
   "id": "5e1112f7-2d4a-4726-affb-0cfdbc42fe9b",
   "metadata": {},
   "outputs": [
    {
     "data": {
      "text/plain": [
       "Text(0.5, 1.0, '0')"
      ]
     },
     "execution_count": 13,
     "metadata": {},
     "output_type": "execute_result"
    },
    {
     "data": {
      "image/png": "[encoded data removed]",
      "text/plain": [
       "<Figure size 640x480 with 1 Axes>"
      ]
     },
     "metadata": {},
     "output_type": "display_data"
    }
   ],
   "source": [
    "plt.imshow(img) #reshape to torch.Size([32, 32, 3])\n",
    "plt.title(class_names[label])"
   ]
  },
  {
   "cell_type": "markdown",
   "id": "2983665c-26bd-42f9-b51a-c90ca16778dc",
   "metadata": {},
   "source": [
    "## Random Pick"
   ]
  },
  {
   "cell_type": "code",
   "execution_count": 14,
   "id": "23519c94-6330-4d5b-bc9d-9e2e8bb6a746",
   "metadata": {},
   "outputs": [
    {
     "data": {
      "text/plain": [
       "Text(0.5, 1.0, '3')"
      ]
     },
     "execution_count": 14,
     "metadata": {},
     "output_type": "execute_result"
    },
    {
     "data": {
      "image/png": "[encoded data removed]",
      "text/plain": [
       "<Figure size 640x480 with 1 Axes>"
      ]
     },
     "metadata": {},
     "output_type": "display_data"
    }
   ],
   "source": [
    "random_img = random.randint(0, len(x_first_batch))\n",
    "rand_img, rand_label = x_first_batch[random_img], y_first_batch[random_img]\n",
    "\n",
    "plt.imshow(rand_img.permute(1,2,0))\n",
    "plt.title(class_names[y_first_batch[rand_label]])"
   ]
  },
  {
   "cell_type": "markdown",
   "id": "c4fe7b14-1f91-4fa9-846b-6488332b6a97",
   "metadata": {},
   "source": [
    "## Flatten"
   ]
  },
  {
   "cell_type": "code",
   "execution_count": 15,
   "id": "f6c8aa4d-3d8f-400a-bf37-1572f1066dce",
   "metadata": {},
   "outputs": [],
   "source": [
    "#reference: https://docs.pytorch.org/docs/stable/generated/torch.nn.Flatten.html#torch.nn.Flatten"
   ]
  },
  {
   "cell_type": "code",
   "execution_count": 16,
   "id": "f3527329-1dff-4846-a106-7a1a95ed0de2",
   "metadata": {},
   "outputs": [
    {
     "data": {
      "text/plain": [
       "torch.Size([32, 1, 28, 28])"
      ]
     },
     "execution_count": 16,
     "metadata": {},
     "output_type": "execute_result"
    }
   ],
   "source": [
    "x_first_batch.shape"
   ]
  },
  {
   "cell_type": "code",
   "execution_count": 17,
   "id": "0419ba9d-4586-4a7e-91b2-ca066a0007e6",
   "metadata": {},
   "outputs": [
    {
     "data": {
      "text/plain": [
       "torch.Size([1, 28, 28])"
      ]
     },
     "execution_count": 17,
     "metadata": {},
     "output_type": "execute_result"
    }
   ],
   "source": [
    "x_first_batch[0].shape"
   ]
  },
  {
   "cell_type": "code",
   "execution_count": 18,
   "id": "2db0f121-701f-4554-9593-ae942a12e127",
   "metadata": {},
   "outputs": [
    {
     "data": {
      "text/plain": [
       "torch.Size([784])"
      ]
     },
     "execution_count": 18,
     "metadata": {},
     "output_type": "execute_result"
    }
   ],
   "source": [
    "f = nn.Flatten(start_dim=0, end_dim=-1) # Default is nn.Flatten(start_dim=1, end_dim=-1) \n",
    "f(x_first_batch[0]).shape"
   ]
  },
  {
   "cell_type": "markdown",
   "id": "dad54f52-0478-46bd-833d-7598336a7837",
   "metadata": {},
   "source": [
    "## Model"
   ]
  },
  {
   "cell_type": "code",
   "execution_count": 19,
   "id": "e02074f8-364f-4be3-8d42-129193abb8a2",
   "metadata": {},
   "outputs": [],
   "source": [
    "class ImageClassificationModel(nn.Module):\n",
    "    def __init__(self,input_shape,output_shape):\n",
    "        super().__init__()\n",
    "        self.layer_stack = nn.Sequential(\n",
    "            nn.Flatten(start_dim = 1, end_dim = -1),  # x_first_batch.shape = torch.Size([32, 3, 32, 32]) should pick(3,32,32). Thus, change start_dim to 1\n",
    "            nn.Linear(in_features = input_shape, out_features = output_shape),\n",
    "            nn.Softmax(dim = 1) # model(x_first_batch).shape = torch.Size([32, 10]), should pick 10. Thus, change to dim = 1\n",
    "        )\n",
    "\n",
    "    def forward(self, x):\n",
    "        return self.layer_stack(x)"
   ]
  },
  {
   "cell_type": "code",
   "execution_count": 20,
   "id": "c6cc54ce-e614-4d39-803c-cf3969fd3348",
   "metadata": {
    "scrolled": true
   },
   "outputs": [
    {
     "data": {
      "text/plain": [
       "tensor([[0.0755, 0.0989, 0.1432, 0.0917, 0.1034, 0.1240, 0.0762, 0.0920, 0.1017,\n",
       "         0.0934],\n",
       "        [0.1212, 0.0897, 0.1176, 0.0908, 0.1043, 0.1102, 0.0804, 0.1048, 0.1191,\n",
       "         0.0617],\n",
       "        [0.1102, 0.1156, 0.0914, 0.0934, 0.0834, 0.1135, 0.0876, 0.1236, 0.1075,\n",
       "         0.0738],\n",
       "        [0.0859, 0.1108, 0.1019, 0.0910, 0.1123, 0.1090, 0.0899, 0.1135, 0.0983,\n",
       "         0.0876],\n",
       "        [0.1232, 0.0848, 0.1070, 0.1023, 0.0905, 0.1348, 0.0838, 0.1003, 0.1117,\n",
       "         0.0616],\n",
       "        [0.0907, 0.1024, 0.0964, 0.1045, 0.0982, 0.1134, 0.0924, 0.1160, 0.0975,\n",
       "         0.0884],\n",
       "        [0.0789, 0.0871, 0.1231, 0.1106, 0.0996, 0.1519, 0.0684, 0.1029, 0.1169,\n",
       "         0.0605],\n",
       "        [0.0971, 0.1136, 0.1138, 0.1080, 0.1365, 0.0982, 0.0636, 0.1193, 0.0864,\n",
       "         0.0632],\n",
       "        [0.1030, 0.0809, 0.1198, 0.1220, 0.1136, 0.1101, 0.0951, 0.0903, 0.0974,\n",
       "         0.0677],\n",
       "        [0.0983, 0.0752, 0.1264, 0.1248, 0.1039, 0.1020, 0.0989, 0.0937, 0.1022,\n",
       "         0.0747],\n",
       "        [0.0921, 0.0890, 0.1203, 0.1100, 0.1224, 0.1288, 0.0747, 0.0862, 0.1003,\n",
       "         0.0762],\n",
       "        [0.1321, 0.0967, 0.1166, 0.0994, 0.0845, 0.0948, 0.0928, 0.1113, 0.1051,\n",
       "         0.0668],\n",
       "        [0.1031, 0.1265, 0.1222, 0.0931, 0.1071, 0.0954, 0.0875, 0.0860, 0.0960,\n",
       "         0.0832],\n",
       "        [0.0895, 0.0979, 0.1182, 0.0962, 0.1128, 0.1060, 0.0844, 0.1145, 0.0921,\n",
       "         0.0885],\n",
       "        [0.0770, 0.0872, 0.0938, 0.1571, 0.1332, 0.1230, 0.0705, 0.1132, 0.0813,\n",
       "         0.0637],\n",
       "        [0.0863, 0.0878, 0.1042, 0.1198, 0.0830, 0.1558, 0.0704, 0.1312, 0.1049,\n",
       "         0.0566],\n",
       "        [0.0948, 0.0661, 0.1218, 0.1136, 0.0815, 0.1158, 0.0876, 0.1474, 0.1063,\n",
       "         0.0652],\n",
       "        [0.0709, 0.1070, 0.1213, 0.1135, 0.1128, 0.1211, 0.0853, 0.1089, 0.0834,\n",
       "         0.0759],\n",
       "        [0.1093, 0.0746, 0.1289, 0.1002, 0.1171, 0.0910, 0.1085, 0.0906, 0.1005,\n",
       "         0.0792],\n",
       "        [0.0990, 0.1170, 0.1038, 0.1066, 0.1061, 0.0994, 0.0728, 0.0961, 0.1171,\n",
       "         0.0821],\n",
       "        [0.1137, 0.1092, 0.1024, 0.0954, 0.0916, 0.1143, 0.0916, 0.1029, 0.1122,\n",
       "         0.0667],\n",
       "        [0.0979, 0.0865, 0.0955, 0.1356, 0.1212, 0.1223, 0.0643, 0.1112, 0.1011,\n",
       "         0.0644],\n",
       "        [0.0890, 0.0815, 0.1047, 0.1256, 0.1234, 0.1307, 0.0814, 0.1166, 0.0844,\n",
       "         0.0627],\n",
       "        [0.1011, 0.1119, 0.0983, 0.1007, 0.1006, 0.1136, 0.0876, 0.1003, 0.1008,\n",
       "         0.0852],\n",
       "        [0.1160, 0.0666, 0.1184, 0.1067, 0.1358, 0.0934, 0.1081, 0.0828, 0.0852,\n",
       "         0.0869],\n",
       "        [0.1004, 0.0946, 0.1192, 0.0958, 0.1006, 0.1269, 0.0980, 0.0966, 0.0986,\n",
       "         0.0691],\n",
       "        [0.1240, 0.0928, 0.1103, 0.0976, 0.0910, 0.0984, 0.0982, 0.1031, 0.1040,\n",
       "         0.0806],\n",
       "        [0.1200, 0.0864, 0.1229, 0.0841, 0.1092, 0.1001, 0.0890, 0.1209, 0.0860,\n",
       "         0.0816],\n",
       "        [0.0878, 0.0759, 0.1069, 0.1563, 0.1120, 0.1087, 0.0909, 0.1190, 0.0773,\n",
       "         0.0653],\n",
       "        [0.0857, 0.1150, 0.1062, 0.0935, 0.1134, 0.0931, 0.1026, 0.0974, 0.1009,\n",
       "         0.0923],\n",
       "        [0.1314, 0.1103, 0.1088, 0.0779, 0.1198, 0.0933, 0.0843, 0.1016, 0.0959,\n",
       "         0.0766],\n",
       "        [0.0805, 0.1076, 0.1037, 0.1102, 0.1047, 0.1115, 0.0985, 0.1082, 0.0950,\n",
       "         0.0801]], grad_fn=<SoftmaxBackward0>)"
      ]
     },
     "execution_count": 20,
     "metadata": {},
     "output_type": "execute_result"
    }
   ],
   "source": [
    "torch.manual_seed(87)\n",
    "model = ImageClassificationModel(784,10)\n",
    "model(x_first_batch)"
   ]
  },
  {
   "cell_type": "code",
   "execution_count": 21,
   "id": "b8d483da-5fa8-4a79-bc18-402da9001089",
   "metadata": {},
   "outputs": [],
   "source": [
    "# softmax\n",
    "# reference: https://docs.pytorch.org/docs/stable/generated/torch.nn.Softmax.html#torch.nn.Softmax"
   ]
  },
  {
   "cell_type": "code",
   "execution_count": 22,
   "id": "f41f2445-bd01-44dd-b391-17305c956e0b",
   "metadata": {},
   "outputs": [
    {
     "data": {
      "text/plain": [
       "tensor([2, 0, 7, 7, 5, 7, 5, 4, 3, 2, 5, 0, 1, 2, 3, 5, 7, 2, 2, 8, 5, 3, 5, 5,\n",
       "        4, 5, 0, 2, 3, 1, 0, 5])"
      ]
     },
     "execution_count": 22,
     "metadata": {},
     "output_type": "execute_result"
    }
   ],
   "source": [
    "y_pred = model(x_first_batch)\n",
    "y_pred.argmax(dim = 1)"
   ]
  },
  {
   "cell_type": "code",
   "execution_count": 23,
   "id": "c62ffd55-cf12-4f1f-a5fd-1f976448745c",
   "metadata": {},
   "outputs": [
    {
     "data": {
      "text/plain": [
       "torch.Size([32, 10])"
      ]
     },
     "execution_count": 23,
     "metadata": {},
     "output_type": "execute_result"
    }
   ],
   "source": [
    "y_pred.shape"
   ]
  },
  {
   "cell_type": "code",
   "execution_count": 24,
   "id": "1c02ed73-bc5d-441f-81c9-b197adfe1465",
   "metadata": {
    "scrolled": true
   },
   "outputs": [
    {
     "data": {
      "text/plain": [
       "tensor([1.0000, 1.0000, 1.0000, 1.0000, 1.0000, 1.0000, 1.0000, 1.0000, 1.0000,\n",
       "        1.0000, 1.0000, 1.0000, 1.0000, 1.0000, 1.0000, 1.0000, 1.0000, 1.0000,\n",
       "        1.0000, 1.0000, 1.0000, 1.0000, 1.0000, 1.0000, 1.0000, 1.0000, 1.0000,\n",
       "        1.0000, 1.0000, 1.0000, 1.0000, 1.0000], grad_fn=<SumBackward1>)"
      ]
     },
     "execution_count": 24,
     "metadata": {},
     "output_type": "execute_result"
    }
   ],
   "source": [
    "sm = nn.Softmax(dim = 1)\n",
    "sm(y_pred).sum(dim = 1) #check softmax"
   ]
  },
  {
   "cell_type": "markdown",
   "id": "d8d765fd-83fd-4bb6-b545-a25fedc875e6",
   "metadata": {},
   "source": [
    "## Cost function"
   ]
  },
  {
   "cell_type": "code",
   "execution_count": 25,
   "id": "468e9bcd-da10-44c1-9baf-46bf141bcb41",
   "metadata": {},
   "outputs": [],
   "source": [
    "# reference: https://docs.pytorch.org/docs/stable/generated/torch.nn.CrossEntropyLoss.html#torch.nn.CrossEntropyLoss"
   ]
  },
  {
   "cell_type": "code",
   "execution_count": 26,
   "id": "7c84fdbc-9862-418a-bb90-cf9c04e800f2",
   "metadata": {},
   "outputs": [],
   "source": [
    "# model without softmax because nn.CrossEntropyLoss() have included\n",
    "class ImageClassificationModel2 (nn.Module):\n",
    "    def __init__(self,input_shape,output_shape):\n",
    "        super().__init__()\n",
    "        self.layer_stack = nn.Sequential(\n",
    "            nn.Flatten(start_dim = 1, end_dim = -1),  # x_first_batch.shape = torch.Size([32, 3, 32, 32]) should pick(3,32,32). Thus, change start_dim to 1\n",
    "            nn.Linear(in_features = input_shape, out_features = output_shape)\n",
    "            # ,nn.Softmax(dim = 1) # model(x_first_batch).shape = torch.Size([32, 10]), should pick 10. Thus, change to dim = 1\n",
    "        )\n",
    "\n",
    "    def forward(self, x):\n",
    "        return self.layer_stack(x)"
   ]
  },
  {
   "cell_type": "code",
   "execution_count": 27,
   "id": "d3076ec4-441b-47c2-aeae-a112ca8f93b0",
   "metadata": {},
   "outputs": [
    {
     "data": {
      "text/plain": [
       "(torch.Size([32, 1, 28, 28]), torch.Size([32]))"
      ]
     },
     "execution_count": 27,
     "metadata": {},
     "output_type": "execute_result"
    }
   ],
   "source": [
    "x_first_batch, y_first_batch = next(iter(train_dataloader))\n",
    "x_first_batch.shape,y_first_batch.shape"
   ]
  },
  {
   "cell_type": "code",
   "execution_count": 28,
   "id": "ac500e84-5605-4b70-9e0f-62dd1d1e5881",
   "metadata": {},
   "outputs": [
    {
     "name": "stdout",
     "output_type": "stream",
     "text": [
      "OrderedDict([('layer_stack.1.weight', tensor([[-0.0355,  0.0281, -0.0032,  ..., -0.0253,  0.0329, -0.0172],\n",
      "        [-0.0108, -0.0178,  0.0132,  ...,  0.0324, -0.0354,  0.0180],\n",
      "        [-0.0197,  0.0092,  0.0163,  ..., -0.0204,  0.0296, -0.0310],\n",
      "        ...,\n",
      "        [ 0.0022,  0.0250, -0.0206,  ...,  0.0313,  0.0052, -0.0215],\n",
      "        [ 0.0283,  0.0323,  0.0323,  ...,  0.0146, -0.0040,  0.0086],\n",
      "        [ 0.0243,  0.0077, -0.0030,  ...,  0.0065,  0.0205,  0.0202]])), ('layer_stack.1.bias', tensor([ 0.0099,  0.0330,  0.0156, -0.0259,  0.0210, -0.0344, -0.0287,  0.0027,\n",
      "        -0.0189,  0.0245]))])\n",
      "tensor(2.3080, grad_fn=<NllLossBackward0>)\n",
      "OrderedDict([('layer_stack.1.weight', tensor([[-0.0355,  0.0281, -0.0032,  ..., -0.0253,  0.0329, -0.0172],\n",
      "        [-0.0108, -0.0178,  0.0132,  ...,  0.0324, -0.0354,  0.0180],\n",
      "        [-0.0197,  0.0092,  0.0163,  ..., -0.0204,  0.0296, -0.0310],\n",
      "        ...,\n",
      "        [ 0.0022,  0.0250, -0.0206,  ...,  0.0313,  0.0052, -0.0215],\n",
      "        [ 0.0283,  0.0323,  0.0323,  ...,  0.0146, -0.0040,  0.0086],\n",
      "        [ 0.0243,  0.0077, -0.0030,  ...,  0.0065,  0.0205,  0.0202]])), ('layer_stack.1.bias', tensor([ 0.0089,  0.0327,  0.0154, -0.0253,  0.0208, -0.0343, -0.0296,  0.0025,\n",
      "        -0.0181,  0.0256]))])\n",
      "tensor(2.2704, grad_fn=<NllLossBackward0>)\n"
     ]
    }
   ],
   "source": [
    "torch.manual_seed(87)\n",
    "model2 = ImageClassificationModel2(784,10)\n",
    "\n",
    "cost_fn = nn.CrossEntropyLoss()\n",
    "y_pred = model2(x_first_batch)\n",
    "cost = cost_fn(y_pred, y_first_batch)\n",
    "print(model2.state_dict()) #before\n",
    "print(cost) #before\n",
    "\n",
    "optimizer = torch.optim.SGD(params = model2.parameters(), lr = 0.01, momentum=0.9, weight_decay=1e-4) \n",
    "optimizer.zero_grad()\n",
    "cost.backward() # gradient descent\n",
    "optimizer.step() # Once the gradients are ready, this tells the optimizer (e.g., SGD, Adam) to update the parameters.\n",
    "\n",
    "y_pred = model2(x_first_batch)\n",
    "cost = cost_fn(y_pred, y_first_batch)\n",
    "print(model2.state_dict()) #after\n",
    "print(cost) #after"
   ]
  },
  {
   "cell_type": "code",
   "execution_count": 29,
   "id": "c00d790a-71fc-407e-b1ad-356a5dcd1eca",
   "metadata": {},
   "outputs": [
    {
     "data": {
      "text/plain": [
       "ImageClassificationModel2(\n",
       "  (layer_stack): Sequential(\n",
       "    (0): Flatten(start_dim=1, end_dim=-1)\n",
       "    (1): Linear(in_features=784, out_features=10, bias=True)\n",
       "  )\n",
       ")"
      ]
     },
     "execution_count": 29,
     "metadata": {},
     "output_type": "execute_result"
    }
   ],
   "source": [
    "device = \"cuda\" if torch.cuda.is_available() else \"cpu\"\n",
    "model2.to(device)"
   ]
  },
  {
   "cell_type": "code",
   "execution_count": 30,
   "id": "80cabc05-284d-4aa4-af44-2fc89a7421ed",
   "metadata": {},
   "outputs": [
    {
     "name": "stdout",
     "output_type": "stream",
     "text": [
      "Epoch: 0 \n",
      " -----\n",
      "num. 0 / 56000 dataset\n",
      "num. 16000 / 56000 dataset\n",
      "num. 32000 / 56000 dataset\n",
      "num. 48000 / 56000 dataset\n",
      "\n",
      "Train Cost: 0.7798, 83.26\n",
      "Test Cost: 0.4995, 87.79 \n",
      "\n",
      "Epoch: 1 \n",
      " -----\n",
      "num. 0 / 56000 dataset\n",
      "num. 16000 / 56000 dataset\n",
      "num. 32000 / 56000 dataset\n",
      "num. 48000 / 56000 dataset\n",
      "\n",
      "Train Cost: 0.4596, 88.15\n",
      "Test Cost: 0.4159, 89.28 \n",
      "\n",
      "Epoch: 2 \n",
      " -----\n",
      "num. 0 / 56000 dataset\n",
      "num. 16000 / 56000 dataset\n",
      "num. 32000 / 56000 dataset\n",
      "num. 48000 / 56000 dataset\n",
      "\n",
      "Train Cost: 0.4062, 89.09\n",
      "Test Cost: 0.3815, 89.82 \n",
      "\n"
     ]
    }
   ],
   "source": [
    "epochs = 3\n",
    "\n",
    "\n",
    "for epoch in range(epochs):\n",
    "    print(f\"Epoch: {epoch} \\n -----\")\n",
    "\n",
    "    train_cost = 0\n",
    "    train_acc = 0\n",
    "    for batch, (x, y) in enumerate(train_dataloader):\n",
    "\n",
    "        x = x.to(device)\n",
    "        y = y.to(device)\n",
    "        \n",
    "        model2.train()\n",
    "        y_pred =  model2(x)\n",
    "        cost = cost_fn(y_pred,y)\n",
    "        train_acc += (y_pred.argmax(dim=1)==y).sum() / len(y) * 100\n",
    "\n",
    "        train_cost += cost\n",
    "\n",
    "        optimizer = torch.optim.SGD(params = model2.parameters(), lr = 0.01, momentum=0.9, weight_decay=1e-4) \n",
    "        optimizer.zero_grad()\n",
    "        cost.backward()\n",
    "        optimizer.step()\n",
    "\n",
    "        if batch % 500 == 0:\n",
    "            print(f\"num. {batch * len(x)} / {len(train_data)} dataset\")\n",
    "\n",
    "    train_cost /= len(train_dataloader)\n",
    "    train_acc /= len(train_dataloader)\n",
    "\n",
    "    test_cost = 0\n",
    "    test_acc = 0\n",
    "    model2.eval()\n",
    "    with torch.inference_mode():\n",
    "        for x, y in test_dataloader:\n",
    "            x = x.to(device)\n",
    "            y = y.to(device)\n",
    "            test_pred =  model2(x)\n",
    "            \n",
    "            test_cost += cost_fn(test_pred,y)\n",
    "            test_acc += (test_pred.argmax(dim=1)==y).sum() / len(y) * 100\n",
    "\n",
    "        test_cost /= len(test_dataloader)\n",
    "        test_acc /= len(test_dataloader)\n",
    "\n",
    "    print(f\"\\nTrain Cost: {train_cost:.4f}, {train_acc:.2f}\")\n",
    "    print(f\"Test Cost: {test_cost:.4f}, {test_acc:.2f} \\n\")"
   ]
  },
  {
   "cell_type": "markdown",
   "id": "e596783a-f88b-4d12-b5cc-3441eabd2488",
   "metadata": {},
   "source": [
    "## Save"
   ]
  },
  {
   "cell_type": "code",
   "execution_count": 7,
   "id": "8685f06b-79d4-439a-8922-f50c28778637",
   "metadata": {},
   "outputs": [],
   "source": [
    "#save\n",
    "# torch.save(model2.state_dict(), \"image_classification_weights.pth\")"
   ]
  }
 ],
 "metadata": {
  "kernelspec": {
   "display_name": "Python 3 (ipykernel)",
   "language": "python",
   "name": "python3"
  },
  "language_info": {
   "codemirror_mode": {
    "name": "ipython",
    "version": 3
   },
   "file_extension": ".py",
   "mimetype": "text/x-python",
   "name": "python",
   "nbconvert_exporter": "python",
   "pygments_lexer": "ipython3",
   "version": "3.10.18"
  }
 },
 "nbformat": 4,
 "nbformat_minor": 5
}
