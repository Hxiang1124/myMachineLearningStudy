{
 "cells": [
  {
   "cell_type": "code",
   "execution_count": 5,
   "id": "bdffce14-3f7d-45e4-b273-4ad1b38e0bf0",
   "metadata": {},
   "outputs": [],
   "source": [
    "from torchvision import datasets\n",
    "from torchvision.transforms import ToTensor,transforms\n",
    "import matplotlib.pyplot as plt\n",
    "import matplotlib\n",
    "from torch.utils.data import DataLoader\n",
    "import torch\n",
    "import random\n",
    "from torch import nn"
   ]
  },
  {
   "cell_type": "code",
   "execution_count": 6,
   "id": "a0f4d0f8-012e-4de0-9570-242ff6d24673",
   "metadata": {},
   "outputs": [],
   "source": [
    "# model without softmax because nn.CrossEntropyLoss() have included\n",
    "class ImageClassificationModel2 (nn.Module):\n",
    "    def __init__(self,input_shape,output_shape):\n",
    "        super().__init__()\n",
    "        self.layer_stack = nn.Sequential(\n",
    "            nn.Flatten(start_dim = 1, end_dim = -1),  # x_first_batch.shape = torch.Size([32, 3, 32, 32]) should pick(3,32,32). Thus, change start_dim to 1\n",
    "            nn.Linear(in_features = input_shape, out_features = output_shape)\n",
    "            # ,nn.Softmax(dim = 1) # model(x_first_batch).shape = torch.Size([32, 10]), should pick 10. Thus, change to dim = 1\n",
    "        )\n",
    "\n",
    "    def forward(self, x):\n",
    "        return self.layer_stack(x)"
   ]
  },
  {
   "cell_type": "code",
   "execution_count": 7,
   "id": "faf656c8-6373-4cbf-bbc8-eb533b3e53d9",
   "metadata": {},
   "outputs": [],
   "source": [
    "torch.manual_seed(87)\n",
    "model2 = ImageClassificationModel2(784,10)"
   ]
  },
  {
   "cell_type": "code",
   "execution_count": 8,
   "id": "87286fa7-bb72-49c2-86da-d145b2dc6d40",
   "metadata": {
    "scrolled": true
   },
   "outputs": [
    {
     "data": {
      "text/plain": [
       "<All keys matched successfully>"
      ]
     },
     "execution_count": 8,
     "metadata": {},
     "output_type": "execute_result"
    }
   ],
   "source": [
    "#load train result\n",
    "state_dict = torch.load(\"image_classification_weights.pth\", weights_only=True)\n",
    "model2.load_state_dict(state_dict)"
   ]
  },
  {
   "cell_type": "code",
   "execution_count": 9,
   "id": "ab7cccf8-35c2-4139-a66b-b3486c89ce4e",
   "metadata": {},
   "outputs": [
    {
     "data": {
      "text/plain": [
       "OrderedDict([('layer_stack.1.weight',\n",
       "              tensor([[-0.0353,  0.0279, -0.0032,  ..., -0.0251,  0.0327, -0.0172],\n",
       "                      [-0.0107, -0.0177,  0.0131,  ...,  0.0322, -0.0352,  0.0179],\n",
       "                      [-0.0196,  0.0092,  0.0163,  ..., -0.0203,  0.0294, -0.0308],\n",
       "                      ...,\n",
       "                      [ 0.0022,  0.0249, -0.0205,  ...,  0.0311,  0.0052, -0.0214],\n",
       "                      [ 0.0281,  0.0322,  0.0321,  ...,  0.0145, -0.0040,  0.0085],\n",
       "                      [ 0.0242,  0.0077, -0.0030,  ...,  0.0064,  0.0204,  0.0201]])),\n",
       "             ('layer_stack.1.bias',\n",
       "              tensor([-0.0864,  0.2267, -0.0180, -0.1125,  0.0773,  0.2201, -0.0384,  0.1551,\n",
       "                      -0.3890, -0.0361]))])"
      ]
     },
     "execution_count": 9,
     "metadata": {},
     "output_type": "execute_result"
    }
   ],
   "source": [
    "model2.state_dict()"
   ]
  },
  {
   "cell_type": "code",
   "execution_count": 10,
   "id": "eacee58e-9462-47e5-b4a7-cce1f1125977",
   "metadata": {},
   "outputs": [],
   "source": [
    "from PIL import Image"
   ]
  },
  {
   "cell_type": "code",
   "execution_count": 21,
   "id": "d3397e4b-f582-4e39-8bf2-e2c8cb0b96b2",
   "metadata": {},
   "outputs": [],
   "source": [
    "# Define the same transform used during training\n",
    "transform = transforms.Compose([\n",
    "    transforms.Grayscale(num_output_channels=1),  # For grayscale MNIST-like data\n",
    "    transforms.ToTensor()\n",
    "])\n",
    "\n",
    "# Load and preprocess the image\n",
    "img_path = \"archive/MNIST_dataset/test/5/11.png\" #this is image '6'\n",
    "image = Image.open(img_path)\n",
    "input_tensor = transform(image).unsqueeze(0)  # Add batch dimension\n",
    "\n",
    "#img = transform(image)  shape: [1, 28, 28]  (C, H, W)\n",
    "#input_tensor = img.unsqueeze(0) shape: [1, 1, 28, 28] (B, C, H, W)\n",
    "\n",
    "\n",
    "#Expected input of size [batch, channels, height, width]\n",
    "#without batch, it will prompt error, Add a fake “batch” dimension to make it valid. [batch, channels, height, width]"
   ]
  },
  {
   "cell_type": "code",
   "execution_count": 22,
   "id": "7aa61617-3730-4d8b-bb16-1a7d7e5ed621",
   "metadata": {},
   "outputs": [
    {
     "data": {
      "text/plain": [
       "torch.return_types.max(\n",
       "values=tensor([5.9399], grad_fn=<MaxBackward0>),\n",
       "indices=tensor([5]))"
      ]
     },
     "execution_count": 22,
     "metadata": {},
     "output_type": "execute_result"
    }
   ],
   "source": [
    "outputs = model2(input_tensor)\n",
    "torch.max(outputs, 1)"
   ]
  },
  {
   "cell_type": "code",
   "execution_count": 23,
   "id": "a5c1859c-a5af-4757-9f1b-b444f765f82f",
   "metadata": {},
   "outputs": [],
   "source": [
    "with torch.no_grad():\n",
    "    outputs = model2(input_tensor)\n",
    "    _, predicted = torch.max(outputs, 1)\n",
    "    pred_class = predicted.item()"
   ]
  },
  {
   "cell_type": "code",
   "execution_count": 24,
   "id": "9ee5aae7-6f1e-43ff-91cf-654adccc0dcc",
   "metadata": {},
   "outputs": [
    {
     "data": {
      "image/png": "[encoded data removed]",
      "text/plain": [
       "<Figure size 640x480 with 1 Axes>"
      ]
     },
     "metadata": {},
     "output_type": "display_data"
    }
   ],
   "source": [
    "plt.imshow(image, cmap=\"gray\")\n",
    "plt.title(f\"Predicted class: {pred_class}\")\n",
    "plt.axis(\"off\")\n",
    "plt.show()"
   ]
  },
  {
   "cell_type": "code",
   "execution_count": null,
   "id": "6c5debbb-1af4-43f4-a606-9fed102e3813",
   "metadata": {},
   "outputs": [],
   "source": []
  }
 ],
 "metadata": {
  "kernelspec": {
   "display_name": "Python 3 (ipykernel)",
   "language": "python",
   "name": "python3"
  },
  "language_info": {
   "codemirror_mode": {
    "name": "ipython",
    "version": 3
   },
   "file_extension": ".py",
   "mimetype": "text/x-python",
   "name": "python",
   "nbconvert_exporter": "python",
   "pygments_lexer": "ipython3",
   "version": "3.10.18"
  }
 },
 "nbformat": 4,
 "nbformat_minor": 5
}
