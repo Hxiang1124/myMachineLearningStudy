{
 "cells": [
  {
   "cell_type": "code",
   "execution_count": 1,
   "id": "7d5b18d9-47c5-4ff8-ae97-5de219eb0e1c",
   "metadata": {},
   "outputs": [],
   "source": [
    "import pandas as pd"
   ]
  },
  {
   "cell_type": "code",
   "execution_count": 2,
   "id": "0900028c-f49d-45fe-8aad-d41149696c58",
   "metadata": {},
   "outputs": [],
   "source": [
    "url = \"Credit_Risk_Prediction.csv\"\n",
    "data = pd.read_csv(url)\n",
    "data[\"Loan\"] = data[\"Loan\"] / 1000\n",
    "data[\"MonthlyPaid\"] = data[\"MonthlyPaid\"] / 1000\n",
    "data[\"Gender\"] = data[\"Gender\"].map({\"m\":1 , \"f\":0})\n",
    "data[\"Credit Risk Prediction\"] = data[\"Credit Risk Prediction\"].map({\"Yes\":1 , \"No\":0})"
   ]
  },
  {
   "cell_type": "code",
   "execution_count": 3,
   "id": "9be78f3e-e6ee-432a-82c7-37456758819f",
   "metadata": {},
   "outputs": [],
   "source": [
    "from sklearn.model_selection import train_test_split\n",
    "\n",
    "x = data[[\"Age\",\"Loan\",\"MonthlyPaid\",\"Gender\"]]\n",
    "y = data[\"Credit Risk Prediction\"]\n",
    "\n",
    "x_train,x_test,y_train,y_test = train_test_split(x,y,test_size=0.2,random_state=87)\n",
    "x_train = x_train.to_numpy()\n",
    "x_test = x_test.to_numpy()"
   ]
  },
  {
   "cell_type": "code",
   "execution_count": 4,
   "id": "c85f6b2a-3260-4b64-a77d-11fb1fda815f",
   "metadata": {},
   "outputs": [],
   "source": [
    "from sklearn.preprocessing import StandardScaler\n",
    "\n",
    "scaler = StandardScaler()\n",
    "scaler.fit(x_train)\n",
    "x_train = scaler.transform(x_train)\n",
    "x_test = scaler.transform(x_test)"
   ]
  },
  {
   "cell_type": "code",
   "execution_count": 5,
   "id": "baa22678-c61d-4cfc-a81e-081fe82548e5",
   "metadata": {},
   "outputs": [
    {
     "data": {
      "text/plain": [
       "np.float64(0.95)"
      ]
     },
     "execution_count": 5,
     "metadata": {},
     "output_type": "execute_result"
    }
   ],
   "source": [
    "from sklearn.linear_model import LogisticRegression\n",
    "\n",
    "lg = LogisticRegression()\n",
    "lg.fit(x_train,y_train)\n",
    "y_pred = lg.predict(x_test)\n",
    "(y_pred == y_test).sum() / len(y_test)"
   ]
  },
  {
   "cell_type": "markdown",
   "id": "25b38da9-af8f-490f-81fb-2fb1affb0a29",
   "metadata": {},
   "source": [
    "## Check data here"
   ]
  },
  {
   "cell_type": "code",
   "execution_count": 6,
   "id": "74abb952-aadd-4149-9bbe-c04f2dad0b14",
   "metadata": {},
   "outputs": [],
   "source": [
    "import numpy as np"
   ]
  },
  {
   "cell_type": "code",
   "execution_count": 27,
   "id": "95cf0fc3-5ca7-40f6-8765-67313f4b0d72",
   "metadata": {},
   "outputs": [
    {
     "name": "stdout",
     "output_type": "stream",
     "text": [
      "Congratulations, you may get the loan\n"
     ]
    }
   ],
   "source": [
    "age = 41\n",
    "loan = 500000 / 1000 #unit(k)\n",
    "monthlypaid = 1500 / 1000 #unit(k)\n",
    "gender = 1  #male\n",
    "\n",
    "x_realData = np.array([[age,loan,monthlypaid,gender]])\n",
    "x_realData = scaler.transform(x_realData)\n",
    "y_realData =  lg.predict(x_realData)[0]\n",
    "\n",
    "if y_realData == 1:\n",
    "    print(\"Congratulations, you may get the loan\")\n",
    "else:\n",
    "    print(\"Sorry, your loan are rejected\")"
   ]
  },
  {
   "cell_type": "code",
   "execution_count": null,
   "id": "53ac94b1-3d30-4617-862e-fe1817531af9",
   "metadata": {},
   "outputs": [],
   "source": []
  }
 ],
 "metadata": {
  "kernelspec": {
   "display_name": "Python 3 (ipykernel)",
   "language": "python",
   "name": "python3"
  },
  "language_info": {
   "codemirror_mode": {
    "name": "ipython",
    "version": 3
   },
   "file_extension": ".py",
   "mimetype": "text/x-python",
   "name": "python",
   "nbconvert_exporter": "python",
   "pygments_lexer": "ipython3",
   "version": "3.9.23"
  }
 },
 "nbformat": 4,
 "nbformat_minor": 5
}
